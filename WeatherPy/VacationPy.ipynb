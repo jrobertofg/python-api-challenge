{
 "cells": [
  {
   "cell_type": "markdown",
   "metadata": {},
   "source": [
    "# VacationPy\n",
    "---\n",
    "\n",
    "## Starter Code to Import Libraries and Load the Weather and Coordinates Data"
   ]
  },
  {
   "cell_type": "code",
   "execution_count": 3,
   "metadata": {},
   "outputs": [
    {
     "data": {
      "application/javascript": "(function(root) {\n  function now() {\n    return new Date();\n  }\n\n  var force = true;\n  var py_version = '3.3.4'.replace('rc', '-rc.').replace('.dev', '-dev.');\n  var reloading = false;\n  var Bokeh = root.Bokeh;\n\n  if (typeof (root._bokeh_timeout) === \"undefined\" || force) {\n    root._bokeh_timeout = Date.now() + 5000;\n    root._bokeh_failed_load = false;\n  }\n\n  function run_callbacks() {\n    try {\n      root._bokeh_onload_callbacks.forEach(function(callback) {\n        if (callback != null)\n          callback();\n      });\n    } finally {\n      delete root._bokeh_onload_callbacks;\n    }\n    console.debug(\"Bokeh: all callbacks have finished\");\n  }\n\n  function load_libs(css_urls, js_urls, js_modules, js_exports, callback) {\n    if (css_urls == null) css_urls = [];\n    if (js_urls == null) js_urls = [];\n    if (js_modules == null) js_modules = [];\n    if (js_exports == null) js_exports = {};\n\n    root._bokeh_onload_callbacks.push(callback);\n\n    if (root._bokeh_is_loading > 0) {\n      console.debug(\"Bokeh: BokehJS is being loaded, scheduling callback at\", now());\n      return null;\n    }\n    if (js_urls.length === 0 && js_modules.length === 0 && Object.keys(js_exports).length === 0) {\n      run_callbacks();\n      return null;\n    }\n    if (!reloading) {\n      console.debug(\"Bokeh: BokehJS not loaded, scheduling load and callback at\", now());\n    }\n\n    function on_load() {\n      root._bokeh_is_loading--;\n      if (root._bokeh_is_loading === 0) {\n        console.debug(\"Bokeh: all BokehJS libraries/stylesheets loaded\");\n        run_callbacks()\n      }\n    }\n    window._bokeh_on_load = on_load\n\n    function on_error() {\n      console.error(\"failed to load \" + url);\n    }\n\n    var skip = [];\n    if (window.requirejs) {\n      window.requirejs.config({'packages': {}, 'paths': {'jspanel': 'https://cdn.jsdelivr.net/npm/jspanel4@4.12.0/dist/jspanel', 'jspanel-modal': 'https://cdn.jsdelivr.net/npm/jspanel4@4.12.0/dist/extensions/modal/jspanel.modal', 'jspanel-tooltip': 'https://cdn.jsdelivr.net/npm/jspanel4@4.12.0/dist/extensions/tooltip/jspanel.tooltip', 'jspanel-hint': 'https://cdn.jsdelivr.net/npm/jspanel4@4.12.0/dist/extensions/hint/jspanel.hint', 'jspanel-layout': 'https://cdn.jsdelivr.net/npm/jspanel4@4.12.0/dist/extensions/layout/jspanel.layout', 'jspanel-contextmenu': 'https://cdn.jsdelivr.net/npm/jspanel4@4.12.0/dist/extensions/contextmenu/jspanel.contextmenu', 'jspanel-dock': 'https://cdn.jsdelivr.net/npm/jspanel4@4.12.0/dist/extensions/dock/jspanel.dock', 'gridstack': 'https://cdn.jsdelivr.net/npm/gridstack@7.2.3/dist/gridstack-all', 'notyf': 'https://cdn.jsdelivr.net/npm/notyf@3/notyf.min'}, 'shim': {'jspanel': {'exports': 'jsPanel'}, 'gridstack': {'exports': 'GridStack'}}});\n      require([\"jspanel\"], function(jsPanel) {\n\twindow.jsPanel = jsPanel\n\ton_load()\n      })\n      require([\"jspanel-modal\"], function() {\n\ton_load()\n      })\n      require([\"jspanel-tooltip\"], function() {\n\ton_load()\n      })\n      require([\"jspanel-hint\"], function() {\n\ton_load()\n      })\n      require([\"jspanel-layout\"], function() {\n\ton_load()\n      })\n      require([\"jspanel-contextmenu\"], function() {\n\ton_load()\n      })\n      require([\"jspanel-dock\"], function() {\n\ton_load()\n      })\n      require([\"gridstack\"], function(GridStack) {\n\twindow.GridStack = GridStack\n\ton_load()\n      })\n      require([\"notyf\"], function() {\n\ton_load()\n      })\n      root._bokeh_is_loading = css_urls.length + 9;\n    } else {\n      root._bokeh_is_loading = css_urls.length + js_urls.length + js_modules.length + Object.keys(js_exports).length;\n    }\n\n    var existing_stylesheets = []\n    var links = document.getElementsByTagName('link')\n    for (var i = 0; i < links.length; i++) {\n      var link = links[i]\n      if (link.href != null) {\n\texisting_stylesheets.push(link.href)\n      }\n    }\n    for (var i = 0; i < css_urls.length; i++) {\n      var url = css_urls[i];\n      if (existing_stylesheets.indexOf(url) !== -1) {\n\ton_load()\n\tcontinue;\n      }\n      const element = document.createElement(\"link\");\n      element.onload = on_load;\n      element.onerror = on_error;\n      element.rel = \"stylesheet\";\n      element.type = \"text/css\";\n      element.href = url;\n      console.debug(\"Bokeh: injecting link tag for BokehJS stylesheet: \", url);\n      document.body.appendChild(element);\n    }    if (((window['jsPanel'] !== undefined) && (!(window['jsPanel'] instanceof HTMLElement))) || window.requirejs) {\n      var urls = ['https://cdn.holoviz.org/panel/1.3.8/dist/bundled/floatpanel/jspanel4@4.12.0/dist/jspanel.js', 'https://cdn.holoviz.org/panel/1.3.8/dist/bundled/floatpanel/jspanel4@4.12.0/dist/extensions/modal/jspanel.modal.js', 'https://cdn.holoviz.org/panel/1.3.8/dist/bundled/floatpanel/jspanel4@4.12.0/dist/extensions/tooltip/jspanel.tooltip.js', 'https://cdn.holoviz.org/panel/1.3.8/dist/bundled/floatpanel/jspanel4@4.12.0/dist/extensions/hint/jspanel.hint.js', 'https://cdn.holoviz.org/panel/1.3.8/dist/bundled/floatpanel/jspanel4@4.12.0/dist/extensions/layout/jspanel.layout.js', 'https://cdn.holoviz.org/panel/1.3.8/dist/bundled/floatpanel/jspanel4@4.12.0/dist/extensions/contextmenu/jspanel.contextmenu.js', 'https://cdn.holoviz.org/panel/1.3.8/dist/bundled/floatpanel/jspanel4@4.12.0/dist/extensions/dock/jspanel.dock.js'];\n      for (var i = 0; i < urls.length; i++) {\n        skip.push(urls[i])\n      }\n    }    if (((window['GridStack'] !== undefined) && (!(window['GridStack'] instanceof HTMLElement))) || window.requirejs) {\n      var urls = ['https://cdn.holoviz.org/panel/1.3.8/dist/bundled/gridstack/gridstack@7.2.3/dist/gridstack-all.js'];\n      for (var i = 0; i < urls.length; i++) {\n        skip.push(urls[i])\n      }\n    }    if (((window['Notyf'] !== undefined) && (!(window['Notyf'] instanceof HTMLElement))) || window.requirejs) {\n      var urls = ['https://cdn.holoviz.org/panel/1.3.8/dist/bundled/notificationarea/notyf@3/notyf.min.js'];\n      for (var i = 0; i < urls.length; i++) {\n        skip.push(urls[i])\n      }\n    }    var existing_scripts = []\n    var scripts = document.getElementsByTagName('script')\n    for (var i = 0; i < scripts.length; i++) {\n      var script = scripts[i]\n      if (script.src != null) {\n\texisting_scripts.push(script.src)\n      }\n    }\n    for (var i = 0; i < js_urls.length; i++) {\n      var url = js_urls[i];\n      if (skip.indexOf(url) !== -1 || existing_scripts.indexOf(url) !== -1) {\n\tif (!window.requirejs) {\n\t  on_load();\n\t}\n\tcontinue;\n      }\n      var element = document.createElement('script');\n      element.onload = on_load;\n      element.onerror = on_error;\n      element.async = false;\n      element.src = url;\n      console.debug(\"Bokeh: injecting script tag for BokehJS library: \", url);\n      document.head.appendChild(element);\n    }\n    for (var i = 0; i < js_modules.length; i++) {\n      var url = js_modules[i];\n      if (skip.indexOf(url) !== -1 || existing_scripts.indexOf(url) !== -1) {\n\tif (!window.requirejs) {\n\t  on_load();\n\t}\n\tcontinue;\n      }\n      var element = document.createElement('script');\n      element.onload = on_load;\n      element.onerror = on_error;\n      element.async = false;\n      element.src = url;\n      element.type = \"module\";\n      console.debug(\"Bokeh: injecting script tag for BokehJS library: \", url);\n      document.head.appendChild(element);\n    }\n    for (const name in js_exports) {\n      var url = js_exports[name];\n      if (skip.indexOf(url) >= 0 || root[name] != null) {\n\tif (!window.requirejs) {\n\t  on_load();\n\t}\n\tcontinue;\n      }\n      var element = document.createElement('script');\n      element.onerror = on_error;\n      element.async = false;\n      element.type = \"module\";\n      console.debug(\"Bokeh: injecting script tag for BokehJS library: \", url);\n      element.textContent = `\n      import ${name} from \"${url}\"\n      window.${name} = ${name}\n      window._bokeh_on_load()\n      `\n      document.head.appendChild(element);\n    }\n    if (!js_urls.length && !js_modules.length) {\n      on_load()\n    }\n  };\n\n  function inject_raw_css(css) {\n    const element = document.createElement(\"style\");\n    element.appendChild(document.createTextNode(css));\n    document.body.appendChild(element);\n  }\n\n  var js_urls = [\"https://cdn.bokeh.org/bokeh/release/bokeh-3.3.4.min.js\", \"https://cdn.bokeh.org/bokeh/release/bokeh-gl-3.3.4.min.js\", \"https://cdn.bokeh.org/bokeh/release/bokeh-widgets-3.3.4.min.js\", \"https://cdn.bokeh.org/bokeh/release/bokeh-tables-3.3.4.min.js\", \"https://cdn.holoviz.org/panel/1.3.8/dist/panel.min.js\"];\n  var js_modules = [];\n  var js_exports = {};\n  var css_urls = [];\n  var inline_js = [    function(Bokeh) {\n      Bokeh.set_log_level(\"info\");\n    },\nfunction(Bokeh) {} // ensure no trailing comma for IE\n  ];\n\n  function run_inline_js() {\n    if ((root.Bokeh !== undefined) || (force === true)) {\n      for (var i = 0; i < inline_js.length; i++) {\n\ttry {\n          inline_js[i].call(root, root.Bokeh);\n\t} catch(e) {\n\t  if (!reloading) {\n\t    throw e;\n\t  }\n\t}\n      }\n      // Cache old bokeh versions\n      if (Bokeh != undefined && !reloading) {\n\tvar NewBokeh = root.Bokeh;\n\tif (Bokeh.versions === undefined) {\n\t  Bokeh.versions = new Map();\n\t}\n\tif (NewBokeh.version !== Bokeh.version) {\n\t  Bokeh.versions.set(NewBokeh.version, NewBokeh)\n\t}\n\troot.Bokeh = Bokeh;\n      }} else if (Date.now() < root._bokeh_timeout) {\n      setTimeout(run_inline_js, 100);\n    } else if (!root._bokeh_failed_load) {\n      console.log(\"Bokeh: BokehJS failed to load within specified timeout.\");\n      root._bokeh_failed_load = true;\n    }\n    root._bokeh_is_initializing = false\n  }\n\n  function load_or_wait() {\n    // Implement a backoff loop that tries to ensure we do not load multiple\n    // versions of Bokeh and its dependencies at the same time.\n    // In recent versions we use the root._bokeh_is_initializing flag\n    // to determine whether there is an ongoing attempt to initialize\n    // bokeh, however for backward compatibility we also try to ensure\n    // that we do not start loading a newer (Panel>=1.0 and Bokeh>3) version\n    // before older versions are fully initialized.\n    if (root._bokeh_is_initializing && Date.now() > root._bokeh_timeout) {\n      root._bokeh_is_initializing = false;\n      root._bokeh_onload_callbacks = undefined;\n      console.log(\"Bokeh: BokehJS was loaded multiple times but one version failed to initialize.\");\n      load_or_wait();\n    } else if (root._bokeh_is_initializing || (typeof root._bokeh_is_initializing === \"undefined\" && root._bokeh_onload_callbacks !== undefined)) {\n      setTimeout(load_or_wait, 100);\n    } else {\n      root._bokeh_is_initializing = true\n      root._bokeh_onload_callbacks = []\n      var bokeh_loaded = Bokeh != null && (Bokeh.version === py_version || (Bokeh.versions !== undefined && Bokeh.versions.has(py_version)));\n      if (!reloading && !bokeh_loaded) {\n\troot.Bokeh = undefined;\n      }\n      load_libs(css_urls, js_urls, js_modules, js_exports, function() {\n\tconsole.debug(\"Bokeh: BokehJS plotting callback run at\", now());\n\trun_inline_js();\n      });\n    }\n  }\n  // Give older versions of the autoload script a head-start to ensure\n  // they initialize before we start loading newer version.\n  setTimeout(load_or_wait, 100)\n}(window));",
      "application/vnd.holoviews_load.v0+json": ""
     },
     "metadata": {},
     "output_type": "display_data"
    },
    {
     "data": {
      "application/javascript": "\nif ((window.PyViz === undefined) || (window.PyViz instanceof HTMLElement)) {\n  window.PyViz = {comms: {}, comm_status:{}, kernels:{}, receivers: {}, plot_index: []}\n}\n\n\n    function JupyterCommManager() {\n    }\n\n    JupyterCommManager.prototype.register_target = function(plot_id, comm_id, msg_handler) {\n      if (window.comm_manager || ((window.Jupyter !== undefined) && (Jupyter.notebook.kernel != null))) {\n        var comm_manager = window.comm_manager || Jupyter.notebook.kernel.comm_manager;\n        comm_manager.register_target(comm_id, function(comm) {\n          comm.on_msg(msg_handler);\n        });\n      } else if ((plot_id in window.PyViz.kernels) && (window.PyViz.kernels[plot_id])) {\n        window.PyViz.kernels[plot_id].registerCommTarget(comm_id, function(comm) {\n          comm.onMsg = msg_handler;\n        });\n      } else if (typeof google != 'undefined' && google.colab.kernel != null) {\n        google.colab.kernel.comms.registerTarget(comm_id, (comm) => {\n          var messages = comm.messages[Symbol.asyncIterator]();\n          function processIteratorResult(result) {\n            var message = result.value;\n            console.log(message)\n            var content = {data: message.data, comm_id};\n            var buffers = []\n            for (var buffer of message.buffers || []) {\n              buffers.push(new DataView(buffer))\n            }\n            var metadata = message.metadata || {};\n            var msg = {content, buffers, metadata}\n            msg_handler(msg);\n            return messages.next().then(processIteratorResult);\n          }\n          return messages.next().then(processIteratorResult);\n        })\n      }\n    }\n\n    JupyterCommManager.prototype.get_client_comm = function(plot_id, comm_id, msg_handler) {\n      if (comm_id in window.PyViz.comms) {\n        return window.PyViz.comms[comm_id];\n      } else if (window.comm_manager || ((window.Jupyter !== undefined) && (Jupyter.notebook.kernel != null))) {\n        var comm_manager = window.comm_manager || Jupyter.notebook.kernel.comm_manager;\n        var comm = comm_manager.new_comm(comm_id, {}, {}, {}, comm_id);\n        if (msg_handler) {\n          comm.on_msg(msg_handler);\n        }\n      } else if ((plot_id in window.PyViz.kernels) && (window.PyViz.kernels[plot_id])) {\n        var comm = window.PyViz.kernels[plot_id].connectToComm(comm_id);\n        comm.open();\n        if (msg_handler) {\n          comm.onMsg = msg_handler;\n        }\n      } else if (typeof google != 'undefined' && google.colab.kernel != null) {\n        var comm_promise = google.colab.kernel.comms.open(comm_id)\n        comm_promise.then((comm) => {\n          window.PyViz.comms[comm_id] = comm;\n          if (msg_handler) {\n            var messages = comm.messages[Symbol.asyncIterator]();\n            function processIteratorResult(result) {\n              var message = result.value;\n              var content = {data: message.data};\n              var metadata = message.metadata || {comm_id};\n              var msg = {content, metadata}\n              msg_handler(msg);\n              return messages.next().then(processIteratorResult);\n            }\n            return messages.next().then(processIteratorResult);\n          }\n        }) \n        var sendClosure = (data, metadata, buffers, disposeOnDone) => {\n          return comm_promise.then((comm) => {\n            comm.send(data, metadata, buffers, disposeOnDone);\n          });\n        };\n        var comm = {\n          send: sendClosure\n        };\n      }\n      window.PyViz.comms[comm_id] = comm;\n      return comm;\n    }\n    window.PyViz.comm_manager = new JupyterCommManager();\n    \n\n\nvar JS_MIME_TYPE = 'application/javascript';\nvar HTML_MIME_TYPE = 'text/html';\nvar EXEC_MIME_TYPE = 'application/vnd.holoviews_exec.v0+json';\nvar CLASS_NAME = 'output';\n\n/**\n * Render data to the DOM node\n */\nfunction render(props, node) {\n  var div = document.createElement(\"div\");\n  var script = document.createElement(\"script\");\n  node.appendChild(div);\n  node.appendChild(script);\n}\n\n/**\n * Handle when a new output is added\n */\nfunction handle_add_output(event, handle) {\n  var output_area = handle.output_area;\n  var output = handle.output;\n  if ((output.data == undefined) || (!output.data.hasOwnProperty(EXEC_MIME_TYPE))) {\n    return\n  }\n  var id = output.metadata[EXEC_MIME_TYPE][\"id\"];\n  var toinsert = output_area.element.find(\".\" + CLASS_NAME.split(' ')[0]);\n  if (id !== undefined) {\n    var nchildren = toinsert.length;\n    var html_node = toinsert[nchildren-1].children[0];\n    html_node.innerHTML = output.data[HTML_MIME_TYPE];\n    var scripts = [];\n    var nodelist = html_node.querySelectorAll(\"script\");\n    for (var i in nodelist) {\n      if (nodelist.hasOwnProperty(i)) {\n        scripts.push(nodelist[i])\n      }\n    }\n\n    scripts.forEach( function (oldScript) {\n      var newScript = document.createElement(\"script\");\n      var attrs = [];\n      var nodemap = oldScript.attributes;\n      for (var j in nodemap) {\n        if (nodemap.hasOwnProperty(j)) {\n          attrs.push(nodemap[j])\n        }\n      }\n      attrs.forEach(function(attr) { newScript.setAttribute(attr.name, attr.value) });\n      newScript.appendChild(document.createTextNode(oldScript.innerHTML));\n      oldScript.parentNode.replaceChild(newScript, oldScript);\n    });\n    if (JS_MIME_TYPE in output.data) {\n      toinsert[nchildren-1].children[1].textContent = output.data[JS_MIME_TYPE];\n    }\n    output_area._hv_plot_id = id;\n    if ((window.Bokeh !== undefined) && (id in Bokeh.index)) {\n      window.PyViz.plot_index[id] = Bokeh.index[id];\n    } else {\n      window.PyViz.plot_index[id] = null;\n    }\n  } else if (output.metadata[EXEC_MIME_TYPE][\"server_id\"] !== undefined) {\n    var bk_div = document.createElement(\"div\");\n    bk_div.innerHTML = output.data[HTML_MIME_TYPE];\n    var script_attrs = bk_div.children[0].attributes;\n    for (var i = 0; i < script_attrs.length; i++) {\n      toinsert[toinsert.length - 1].childNodes[1].setAttribute(script_attrs[i].name, script_attrs[i].value);\n    }\n    // store reference to server id on output_area\n    output_area._bokeh_server_id = output.metadata[EXEC_MIME_TYPE][\"server_id\"];\n  }\n}\n\n/**\n * Handle when an output is cleared or removed\n */\nfunction handle_clear_output(event, handle) {\n  var id = handle.cell.output_area._hv_plot_id;\n  var server_id = handle.cell.output_area._bokeh_server_id;\n  if (((id === undefined) || !(id in PyViz.plot_index)) && (server_id !== undefined)) { return; }\n  var comm = window.PyViz.comm_manager.get_client_comm(\"hv-extension-comm\", \"hv-extension-comm\", function () {});\n  if (server_id !== null) {\n    comm.send({event_type: 'server_delete', 'id': server_id});\n    return;\n  } else if (comm !== null) {\n    comm.send({event_type: 'delete', 'id': id});\n  }\n  delete PyViz.plot_index[id];\n  if ((window.Bokeh !== undefined) & (id in window.Bokeh.index)) {\n    var doc = window.Bokeh.index[id].model.document\n    doc.clear();\n    const i = window.Bokeh.documents.indexOf(doc);\n    if (i > -1) {\n      window.Bokeh.documents.splice(i, 1);\n    }\n  }\n}\n\n/**\n * Handle kernel restart event\n */\nfunction handle_kernel_cleanup(event, handle) {\n  delete PyViz.comms[\"hv-extension-comm\"];\n  window.PyViz.plot_index = {}\n}\n\n/**\n * Handle update_display_data messages\n */\nfunction handle_update_output(event, handle) {\n  handle_clear_output(event, {cell: {output_area: handle.output_area}})\n  handle_add_output(event, handle)\n}\n\nfunction register_renderer(events, OutputArea) {\n  function append_mime(data, metadata, element) {\n    // create a DOM node to render to\n    var toinsert = this.create_output_subarea(\n    metadata,\n    CLASS_NAME,\n    EXEC_MIME_TYPE\n    );\n    this.keyboard_manager.register_events(toinsert);\n    // Render to node\n    var props = {data: data, metadata: metadata[EXEC_MIME_TYPE]};\n    render(props, toinsert[0]);\n    element.append(toinsert);\n    return toinsert\n  }\n\n  events.on('output_added.OutputArea', handle_add_output);\n  events.on('output_updated.OutputArea', handle_update_output);\n  events.on('clear_output.CodeCell', handle_clear_output);\n  events.on('delete.Cell', handle_clear_output);\n  events.on('kernel_ready.Kernel', handle_kernel_cleanup);\n\n  OutputArea.prototype.register_mime_type(EXEC_MIME_TYPE, append_mime, {\n    safe: true,\n    index: 0\n  });\n}\n\nif (window.Jupyter !== undefined) {\n  try {\n    var events = require('base/js/events');\n    var OutputArea = require('notebook/js/outputarea').OutputArea;\n    if (OutputArea.prototype.mime_types().indexOf(EXEC_MIME_TYPE) == -1) {\n      register_renderer(events, OutputArea);\n    }\n  } catch(err) {\n  }\n}\n",
      "application/vnd.holoviews_load.v0+json": ""
     },
     "metadata": {},
     "output_type": "display_data"
    },
    {
     "data": {
      "text/html": [
       "<style>*[data-root-id],\n",
       "*[data-root-id] > * {\n",
       "  box-sizing: border-box;\n",
       "  font-family: var(--jp-ui-font-family);\n",
       "  font-size: var(--jp-ui-font-size1);\n",
       "  color: var(--vscode-editor-foreground, var(--jp-ui-font-color1));\n",
       "}\n",
       "\n",
       "/* Override VSCode background color */\n",
       ".cell-output-ipywidget-background:has(\n",
       "    > .cell-output-ipywidget-background > .lm-Widget > *[data-root-id]\n",
       "  ),\n",
       ".cell-output-ipywidget-background:has(> .lm-Widget > *[data-root-id]) {\n",
       "  background-color: transparent !important;\n",
       "}\n",
       "</style>"
      ]
     },
     "metadata": {},
     "output_type": "display_data"
    },
    {
     "data": {
      "application/vnd.holoviews_exec.v0+json": "",
      "text/html": [
       "<div id='p1002'>\n",
       "  <div id=\"ecf5de87-a7f9-4d22-a028-8872c2026d30\" data-root-id=\"p1002\" style=\"display: contents;\"></div>\n",
       "</div>\n",
       "<script type=\"application/javascript\">(function(root) {\n",
       "  var docs_json = {\"e405163a-325b-42e8-aaa4-8ff9708f13bd\":{\"version\":\"3.3.4\",\"title\":\"Bokeh Application\",\"roots\":[{\"type\":\"object\",\"name\":\"panel.models.browser.BrowserInfo\",\"id\":\"p1002\"},{\"type\":\"object\",\"name\":\"panel.models.comm_manager.CommManager\",\"id\":\"p1003\",\"attributes\":{\"plot_id\":\"p1002\",\"comm_id\":\"07b64e0819894d6cb2a5cd3199e824f6\",\"client_comm_id\":\"359f9752becb4b769cf6283e665c9eaa\"}}],\"defs\":[{\"type\":\"model\",\"name\":\"ReactiveHTML1\"},{\"type\":\"model\",\"name\":\"FlexBox1\",\"properties\":[{\"name\":\"align_content\",\"kind\":\"Any\",\"default\":\"flex-start\"},{\"name\":\"align_items\",\"kind\":\"Any\",\"default\":\"flex-start\"},{\"name\":\"flex_direction\",\"kind\":\"Any\",\"default\":\"row\"},{\"name\":\"flex_wrap\",\"kind\":\"Any\",\"default\":\"wrap\"},{\"name\":\"justify_content\",\"kind\":\"Any\",\"default\":\"flex-start\"}]},{\"type\":\"model\",\"name\":\"FloatPanel1\",\"properties\":[{\"name\":\"config\",\"kind\":\"Any\",\"default\":{\"type\":\"map\"}},{\"name\":\"contained\",\"kind\":\"Any\",\"default\":true},{\"name\":\"position\",\"kind\":\"Any\",\"default\":\"right-top\"},{\"name\":\"offsetx\",\"kind\":\"Any\",\"default\":null},{\"name\":\"offsety\",\"kind\":\"Any\",\"default\":null},{\"name\":\"theme\",\"kind\":\"Any\",\"default\":\"primary\"},{\"name\":\"status\",\"kind\":\"Any\",\"default\":\"normalized\"}]},{\"type\":\"model\",\"name\":\"GridStack1\",\"properties\":[{\"name\":\"mode\",\"kind\":\"Any\",\"default\":\"warn\"},{\"name\":\"ncols\",\"kind\":\"Any\",\"default\":null},{\"name\":\"nrows\",\"kind\":\"Any\",\"default\":null},{\"name\":\"allow_resize\",\"kind\":\"Any\",\"default\":true},{\"name\":\"allow_drag\",\"kind\":\"Any\",\"default\":true},{\"name\":\"state\",\"kind\":\"Any\",\"default\":[]}]},{\"type\":\"model\",\"name\":\"drag1\",\"properties\":[{\"name\":\"slider_width\",\"kind\":\"Any\",\"default\":5},{\"name\":\"slider_color\",\"kind\":\"Any\",\"default\":\"black\"},{\"name\":\"value\",\"kind\":\"Any\",\"default\":50}]},{\"type\":\"model\",\"name\":\"click1\",\"properties\":[{\"name\":\"terminal_output\",\"kind\":\"Any\",\"default\":\"\"},{\"name\":\"debug_name\",\"kind\":\"Any\",\"default\":\"\"},{\"name\":\"clears\",\"kind\":\"Any\",\"default\":0}]},{\"type\":\"model\",\"name\":\"copy_to_clipboard1\",\"properties\":[{\"name\":\"fill\",\"kind\":\"Any\",\"default\":\"none\"},{\"name\":\"value\",\"kind\":\"Any\",\"default\":null}]},{\"type\":\"model\",\"name\":\"FastWrapper1\",\"properties\":[{\"name\":\"object\",\"kind\":\"Any\",\"default\":null},{\"name\":\"style\",\"kind\":\"Any\",\"default\":null}]},{\"type\":\"model\",\"name\":\"NotificationAreaBase1\",\"properties\":[{\"name\":\"js_events\",\"kind\":\"Any\",\"default\":{\"type\":\"map\"}},{\"name\":\"position\",\"kind\":\"Any\",\"default\":\"bottom-right\"},{\"name\":\"_clear\",\"kind\":\"Any\",\"default\":0}]},{\"type\":\"model\",\"name\":\"NotificationArea1\",\"properties\":[{\"name\":\"js_events\",\"kind\":\"Any\",\"default\":{\"type\":\"map\"}},{\"name\":\"notifications\",\"kind\":\"Any\",\"default\":[]},{\"name\":\"position\",\"kind\":\"Any\",\"default\":\"bottom-right\"},{\"name\":\"_clear\",\"kind\":\"Any\",\"default\":0},{\"name\":\"types\",\"kind\":\"Any\",\"default\":[{\"type\":\"map\",\"entries\":[[\"type\",\"warning\"],[\"background\",\"#ffc107\"],[\"icon\",{\"type\":\"map\",\"entries\":[[\"className\",\"fas fa-exclamation-triangle\"],[\"tagName\",\"i\"],[\"color\",\"white\"]]}]]},{\"type\":\"map\",\"entries\":[[\"type\",\"info\"],[\"background\",\"#007bff\"],[\"icon\",{\"type\":\"map\",\"entries\":[[\"className\",\"fas fa-info-circle\"],[\"tagName\",\"i\"],[\"color\",\"white\"]]}]]}]}]},{\"type\":\"model\",\"name\":\"Notification\",\"properties\":[{\"name\":\"background\",\"kind\":\"Any\",\"default\":null},{\"name\":\"duration\",\"kind\":\"Any\",\"default\":3000},{\"name\":\"icon\",\"kind\":\"Any\",\"default\":null},{\"name\":\"message\",\"kind\":\"Any\",\"default\":\"\"},{\"name\":\"notification_type\",\"kind\":\"Any\",\"default\":null},{\"name\":\"_destroyed\",\"kind\":\"Any\",\"default\":false}]},{\"type\":\"model\",\"name\":\"TemplateActions1\",\"properties\":[{\"name\":\"open_modal\",\"kind\":\"Any\",\"default\":0},{\"name\":\"close_modal\",\"kind\":\"Any\",\"default\":0}]},{\"type\":\"model\",\"name\":\"BootstrapTemplateActions1\",\"properties\":[{\"name\":\"open_modal\",\"kind\":\"Any\",\"default\":0},{\"name\":\"close_modal\",\"kind\":\"Any\",\"default\":0}]},{\"type\":\"model\",\"name\":\"MaterialTemplateActions1\",\"properties\":[{\"name\":\"open_modal\",\"kind\":\"Any\",\"default\":0},{\"name\":\"close_modal\",\"kind\":\"Any\",\"default\":0}]}]}};\n",
       "  var render_items = [{\"docid\":\"e405163a-325b-42e8-aaa4-8ff9708f13bd\",\"roots\":{\"p1002\":\"ecf5de87-a7f9-4d22-a028-8872c2026d30\"},\"root_ids\":[\"p1002\"]}];\n",
       "  var docs = Object.values(docs_json)\n",
       "  if (!docs) {\n",
       "    return\n",
       "  }\n",
       "  const py_version = docs[0].version.replace('rc', '-rc.').replace('.dev', '-dev.')\n",
       "  function embed_document(root) {\n",
       "    var Bokeh = get_bokeh(root)\n",
       "    Bokeh.embed.embed_items_notebook(docs_json, render_items);\n",
       "    for (const render_item of render_items) {\n",
       "      for (const root_id of render_item.root_ids) {\n",
       "\tconst id_el = document.getElementById(root_id)\n",
       "\tif (id_el.children.length && (id_el.children[0].className === 'bk-root')) {\n",
       "\t  const root_el = id_el.children[0]\n",
       "\t  root_el.id = root_el.id + '-rendered'\n",
       "\t}\n",
       "      }\n",
       "    }\n",
       "  }\n",
       "  function get_bokeh(root) {\n",
       "    if (root.Bokeh === undefined) {\n",
       "      return null\n",
       "    } else if (root.Bokeh.version !== py_version) {\n",
       "      if (root.Bokeh.versions === undefined || !root.Bokeh.versions.has(py_version)) {\n",
       "\treturn null\n",
       "      }\n",
       "      return root.Bokeh.versions.get(py_version);\n",
       "    } else if (root.Bokeh.version === py_version) {\n",
       "      return root.Bokeh\n",
       "    }\n",
       "    return null\n",
       "  }\n",
       "  function is_loaded(root) {\n",
       "    var Bokeh = get_bokeh(root)\n",
       "    return (Bokeh != null && Bokeh.Panel !== undefined)\n",
       "  }\n",
       "  if (is_loaded(root)) {\n",
       "    embed_document(root);\n",
       "  } else {\n",
       "    var attempts = 0;\n",
       "    var timer = setInterval(function(root) {\n",
       "      if (is_loaded(root)) {\n",
       "        clearInterval(timer);\n",
       "        embed_document(root);\n",
       "      } else if (document.readyState == \"complete\") {\n",
       "        attempts++;\n",
       "        if (attempts > 200) {\n",
       "          clearInterval(timer);\n",
       "\t  var Bokeh = get_bokeh(root)\n",
       "\t  if (Bokeh == null || Bokeh.Panel == null) {\n",
       "            console.warn(\"Panel: ERROR: Unable to run Panel code because Bokeh or Panel library is missing\");\n",
       "\t  } else {\n",
       "\t    console.warn(\"Panel: WARNING: Attempting to render but not all required libraries could be resolved.\")\n",
       "\t    embed_document(root)\n",
       "\t  }\n",
       "        }\n",
       "      }\n",
       "    }, 25, root)\n",
       "  }\n",
       "})(window);</script>"
      ]
     },
     "metadata": {
      "application/vnd.holoviews_exec.v0+json": {
       "id": "p1002"
      }
     },
     "output_type": "display_data"
    }
   ],
   "source": [
    "# Dependencies and Setup\n",
    "import hvplot.pandas\n",
    "import pandas as pd\n",
    "import requests\n",
    "import geopandas as gpd\n",
    "\n",
    "# Import API key\n",
    "from api_keys import geoapify_key"
   ]
  },
  {
   "cell_type": "code",
   "execution_count": 4,
   "metadata": {},
   "outputs": [
    {
     "data": {
      "text/html": [
       "<div>\n",
       "<style scoped>\n",
       "    .dataframe tbody tr th:only-of-type {\n",
       "        vertical-align: middle;\n",
       "    }\n",
       "\n",
       "    .dataframe tbody tr th {\n",
       "        vertical-align: top;\n",
       "    }\n",
       "\n",
       "    .dataframe thead th {\n",
       "        text-align: right;\n",
       "    }\n",
       "</style>\n",
       "<table border=\"1\" class=\"dataframe\">\n",
       "  <thead>\n",
       "    <tr style=\"text-align: right;\">\n",
       "      <th></th>\n",
       "      <th>City_ID</th>\n",
       "      <th>City</th>\n",
       "      <th>Lat</th>\n",
       "      <th>Lng</th>\n",
       "      <th>Max Temp</th>\n",
       "      <th>Humidity</th>\n",
       "      <th>Cloudiness</th>\n",
       "      <th>Wind Speed</th>\n",
       "      <th>Country</th>\n",
       "      <th>Date</th>\n",
       "    </tr>\n",
       "  </thead>\n",
       "  <tbody>\n",
       "    <tr>\n",
       "      <th>0</th>\n",
       "      <td>0</td>\n",
       "      <td>waitangi</td>\n",
       "      <td>-43.9535</td>\n",
       "      <td>-176.5597</td>\n",
       "      <td>13.10</td>\n",
       "      <td>81</td>\n",
       "      <td>32</td>\n",
       "      <td>13.97</td>\n",
       "      <td>NZ</td>\n",
       "      <td>1713755935</td>\n",
       "    </tr>\n",
       "    <tr>\n",
       "      <th>1</th>\n",
       "      <td>1</td>\n",
       "      <td>jamestown</td>\n",
       "      <td>42.0970</td>\n",
       "      <td>-79.2353</td>\n",
       "      <td>-1.01</td>\n",
       "      <td>85</td>\n",
       "      <td>3</td>\n",
       "      <td>2.13</td>\n",
       "      <td>US</td>\n",
       "      <td>1713755936</td>\n",
       "    </tr>\n",
       "    <tr>\n",
       "      <th>2</th>\n",
       "      <td>2</td>\n",
       "      <td>ribeira grande</td>\n",
       "      <td>38.5167</td>\n",
       "      <td>-28.7000</td>\n",
       "      <td>15.05</td>\n",
       "      <td>74</td>\n",
       "      <td>100</td>\n",
       "      <td>2.65</td>\n",
       "      <td>PT</td>\n",
       "      <td>1713755936</td>\n",
       "    </tr>\n",
       "    <tr>\n",
       "      <th>3</th>\n",
       "      <td>3</td>\n",
       "      <td>blackmans bay</td>\n",
       "      <td>-43.0167</td>\n",
       "      <td>147.3167</td>\n",
       "      <td>17.46</td>\n",
       "      <td>56</td>\n",
       "      <td>11</td>\n",
       "      <td>1.64</td>\n",
       "      <td>AU</td>\n",
       "      <td>1713755936</td>\n",
       "    </tr>\n",
       "    <tr>\n",
       "      <th>4</th>\n",
       "      <td>4</td>\n",
       "      <td>mount gambier</td>\n",
       "      <td>-37.8333</td>\n",
       "      <td>140.7667</td>\n",
       "      <td>22.35</td>\n",
       "      <td>23</td>\n",
       "      <td>2</td>\n",
       "      <td>3.35</td>\n",
       "      <td>AU</td>\n",
       "      <td>1713755936</td>\n",
       "    </tr>\n",
       "  </tbody>\n",
       "</table>\n",
       "</div>"
      ],
      "text/plain": [
       "   City_ID            City      Lat       Lng  Max Temp  Humidity  Cloudiness  \\\n",
       "0        0        waitangi -43.9535 -176.5597     13.10        81          32   \n",
       "1        1       jamestown  42.0970  -79.2353     -1.01        85           3   \n",
       "2        2  ribeira grande  38.5167  -28.7000     15.05        74         100   \n",
       "3        3   blackmans bay -43.0167  147.3167     17.46        56          11   \n",
       "4        4   mount gambier -37.8333  140.7667     22.35        23           2   \n",
       "\n",
       "   Wind Speed Country        Date  \n",
       "0       13.97      NZ  1713755935  \n",
       "1        2.13      US  1713755936  \n",
       "2        2.65      PT  1713755936  \n",
       "3        1.64      AU  1713755936  \n",
       "4        3.35      AU  1713755936  "
      ]
     },
     "execution_count": 4,
     "metadata": {},
     "output_type": "execute_result"
    }
   ],
   "source": [
    "# Load the CSV file created in Part 1 into a Pandas DataFrame\n",
    "city_data_df = pd.read_csv(\"output_data_cities.csv\")\n",
    "\n",
    "# Display sample data\n",
    "city_data_df.head()"
   ]
  },
  {
   "cell_type": "markdown",
   "metadata": {},
   "source": [
    "---\n",
    "\n",
    "### Step 1: Create a map that displays a point for every city in the `city_data_df` DataFrame. The size of the point should be the humidity in each city."
   ]
  },
  {
   "cell_type": "code",
   "execution_count": 10,
   "metadata": {},
   "outputs": [
    {
     "data": {},
     "metadata": {},
     "output_type": "display_data"
    },
    {
     "data": {
      "application/vnd.holoviews_exec.v0+json": "",
      "text/html": [
       "<div id='p1199'>\n",
       "  <div id=\"c152d3a6-f41e-4e19-9aa4-10a3c585e689\" data-root-id=\"p1199\" style=\"display: contents;\"></div>\n",
       "</div>\n",
       "<script type=\"application/javascript\">(function(root) {\n",
       "  var docs_json = {\"7a49bd91-29e8-4cbd-a7c6-7cb9ca186447\":{\"version\":\"3.3.4\",\"title\":\"Bokeh Application\",\"roots\":[{\"type\":\"object\",\"name\":\"Row\",\"id\":\"p1199\",\"attributes\":{\"name\":\"Row01953\",\"tags\":[\"embedded\"],\"stylesheets\":[\"\\n:host(.pn-loading.pn-arc):before, .pn-loading.pn-arc:before {\\n  background-image: url(\\\"data:image/svg+xml;base64,PHN2ZyB4bWxucz0iaHR0cDovL3d3dy53My5vcmcvMjAwMC9zdmciIHN0eWxlPSJtYXJnaW46IGF1dG87IGJhY2tncm91bmQ6IG5vbmU7IGRpc3BsYXk6IGJsb2NrOyBzaGFwZS1yZW5kZXJpbmc6IGF1dG87IiB2aWV3Qm94PSIwIDAgMTAwIDEwMCIgcHJlc2VydmVBc3BlY3RSYXRpbz0ieE1pZFlNaWQiPiAgPGNpcmNsZSBjeD0iNTAiIGN5PSI1MCIgZmlsbD0ibm9uZSIgc3Ryb2tlPSIjYzNjM2MzIiBzdHJva2Utd2lkdGg9IjEwIiByPSIzNSIgc3Ryb2tlLWRhc2hhcnJheT0iMTY0LjkzMzYxNDMxMzQ2NDE1IDU2Ljk3Nzg3MTQzNzgyMTM4Ij4gICAgPGFuaW1hdGVUcmFuc2Zvcm0gYXR0cmlidXRlTmFtZT0idHJhbnNmb3JtIiB0eXBlPSJyb3RhdGUiIHJlcGVhdENvdW50PSJpbmRlZmluaXRlIiBkdXI9IjFzIiB2YWx1ZXM9IjAgNTAgNTA7MzYwIDUwIDUwIiBrZXlUaW1lcz0iMDsxIj48L2FuaW1hdGVUcmFuc2Zvcm0+ICA8L2NpcmNsZT48L3N2Zz4=\\\");\\n  background-size: auto calc(min(50%, 400px));\\n}\",{\"type\":\"object\",\"name\":\"ImportedStyleSheet\",\"id\":\"p1202\",\"attributes\":{\"url\":\"https://cdn.holoviz.org/panel/1.3.8/dist/css/loading.css\"}},{\"type\":\"object\",\"name\":\"ImportedStyleSheet\",\"id\":\"p1287\",\"attributes\":{\"url\":\"https://cdn.holoviz.org/panel/1.3.8/dist/css/listpanel.css\"}},{\"type\":\"object\",\"name\":\"ImportedStyleSheet\",\"id\":\"p1200\",\"attributes\":{\"url\":\"https://cdn.holoviz.org/panel/1.3.8/dist/bundled/theme/default.css\"}},{\"type\":\"object\",\"name\":\"ImportedStyleSheet\",\"id\":\"p1201\",\"attributes\":{\"url\":\"https://cdn.holoviz.org/panel/1.3.8/dist/bundled/theme/native.css\"}}],\"margin\":0,\"sizing_mode\":\"stretch_width\",\"align\":\"start\",\"children\":[{\"type\":\"object\",\"name\":\"Spacer\",\"id\":\"p1203\",\"attributes\":{\"name\":\"HSpacer01959\",\"stylesheets\":[\"\\n:host(.pn-loading.pn-arc):before, .pn-loading.pn-arc:before {\\n  background-image: url(\\\"data:image/svg+xml;base64,PHN2ZyB4bWxucz0iaHR0cDovL3d3dy53My5vcmcvMjAwMC9zdmciIHN0eWxlPSJtYXJnaW46IGF1dG87IGJhY2tncm91bmQ6IG5vbmU7IGRpc3BsYXk6IGJsb2NrOyBzaGFwZS1yZW5kZXJpbmc6IGF1dG87IiB2aWV3Qm94PSIwIDAgMTAwIDEwMCIgcHJlc2VydmVBc3BlY3RSYXRpbz0ieE1pZFlNaWQiPiAgPGNpcmNsZSBjeD0iNTAiIGN5PSI1MCIgZmlsbD0ibm9uZSIgc3Ryb2tlPSIjYzNjM2MzIiBzdHJva2Utd2lkdGg9IjEwIiByPSIzNSIgc3Ryb2tlLWRhc2hhcnJheT0iMTY0LjkzMzYxNDMxMzQ2NDE1IDU2Ljk3Nzg3MTQzNzgyMTM4Ij4gICAgPGFuaW1hdGVUcmFuc2Zvcm0gYXR0cmlidXRlTmFtZT0idHJhbnNmb3JtIiB0eXBlPSJyb3RhdGUiIHJlcGVhdENvdW50PSJpbmRlZmluaXRlIiBkdXI9IjFzIiB2YWx1ZXM9IjAgNTAgNTA7MzYwIDUwIDUwIiBrZXlUaW1lcz0iMDsxIj48L2FuaW1hdGVUcmFuc2Zvcm0+ICA8L2NpcmNsZT48L3N2Zz4=\\\");\\n  background-size: auto calc(min(50%, 400px));\\n}\",{\"id\":\"p1202\"},{\"id\":\"p1200\"},{\"id\":\"p1201\"}],\"margin\":0,\"sizing_mode\":\"stretch_width\",\"align\":\"start\"}},{\"type\":\"object\",\"name\":\"Figure\",\"id\":\"p1232\",\"attributes\":{\"width\":null,\"height\":null,\"margin\":[5,10],\"sizing_mode\":\"fixed\",\"align\":\"start\",\"x_range\":{\"type\":\"object\",\"name\":\"Range1d\",\"id\":\"p1213\",\"attributes\":{\"tags\":[[[\"Longitude\",\"Longitude\",null]],[]],\"start\":-22841515.83506488,\"end\":23050996.85283966,\"reset_start\":-22841515.83506488,\"reset_end\":23050996.85283966,\"min_interval\":5}},\"y_range\":{\"type\":\"object\",\"name\":\"Range1d\",\"id\":\"p1214\",\"attributes\":{\"tags\":[[[\"Latitude\",\"Latitude\",null]],{\"type\":\"map\",\"entries\":[[\"invert_yaxis\",false],[\"autorange\",false]]}],\"start\":-14923223.919073448,\"end\":22086866.958268918,\"reset_start\":-14923223.919073448,\"reset_end\":22086866.958268918,\"min_interval\":5}},\"x_scale\":{\"type\":\"object\",\"name\":\"LinearScale\",\"id\":\"p1242\"},\"y_scale\":{\"type\":\"object\",\"name\":\"LinearScale\",\"id\":\"p1243\"},\"title\":{\"type\":\"object\",\"name\":\"Title\",\"id\":\"p1235\",\"attributes\":{\"text_color\":\"black\",\"text_font_size\":\"12pt\"}},\"renderers\":[{\"type\":\"object\",\"name\":\"TileRenderer\",\"id\":\"p1265\",\"attributes\":{\"level\":\"underlay\",\"tile_source\":{\"type\":\"object\",\"name\":\"WMTSTileSource\",\"id\":\"p1261\",\"attributes\":{\"url\":\"https://c.tile.openstreetmap.org/{Z}/{X}/{Y}.png\",\"attribution\":\"&copy; <a href=\\\"https://www.openstreetmap.org/copyright\\\">OpenStreetMap</a> contributors\"}}}},{\"type\":\"object\",\"name\":\"GlyphRenderer\",\"id\":\"p1278\",\"attributes\":{\"data_source\":{\"type\":\"object\",\"name\":\"ColumnDataSource\",\"id\":\"p1269\",\"attributes\":{\"selected\":{\"type\":\"object\",\"name\":\"Selection\",\"id\":\"p1270\",\"attributes\":{\"indices\":[],\"line_indices\":[]}},\"selection_policy\":{\"type\":\"object\",\"name\":\"UnionRenderers\",\"id\":\"p1271\"},\"data\":{\"type\":\"map\",\"entries\":[[\"Lng\",{\"type\":\"ndarray\",\"array\":{\"type\":\"bytes\",\"data\":\"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\"},\"shape\":[595],\"dtype\":\"float64\",\"order\":\"little\"}],[\"Lat\",{\"type\":\"ndarray\",\"array\":{\"type\":\"bytes\",\"data\":\"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\"},\"shape\":[595],\"dtype\":\"float64\",\"order\":\"little\"}],[\"Humidity\",{\"type\":\"ndarray\",\"array\":{\"type\":\"bytes\",\"data\":\"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\"},\"shape\":[595],\"dtype\":\"int32\",\"order\":\"little\"}],[\"size\",{\"type\":\"ndarray\",\"array\":{\"type\":\"bytes\",\"data\":\"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\"},\"shape\":[595],\"dtype\":\"float64\",\"order\":\"little\"}]]}}},\"view\":{\"type\":\"object\",\"name\":\"CDSView\",\"id\":\"p1279\",\"attributes\":{\"filter\":{\"type\":\"object\",\"name\":\"AllIndices\",\"id\":\"p1280\"}}},\"glyph\":{\"type\":\"object\",\"name\":\"Scatter\",\"id\":\"p1275\",\"attributes\":{\"tags\":[\"apply_ranges\"],\"x\":{\"type\":\"field\",\"field\":\"Lng\"},\"y\":{\"type\":\"field\",\"field\":\"Lat\"},\"size\":{\"type\":\"field\",\"field\":\"size\"},\"line_color\":{\"type\":\"value\",\"value\":\"#30a2da\"},\"fill_color\":{\"type\":\"value\",\"value\":\"#30a2da\"},\"hatch_color\":{\"type\":\"value\",\"value\":\"#30a2da\"}}},\"selection_glyph\":{\"type\":\"object\",\"name\":\"Scatter\",\"id\":\"p1283\",\"attributes\":{\"tags\":[\"apply_ranges\"],\"x\":{\"type\":\"field\",\"field\":\"Lng\"},\"y\":{\"type\":\"field\",\"field\":\"Lat\"},\"size\":{\"type\":\"field\",\"field\":\"size\"},\"angle\":{\"type\":\"value\",\"value\":0.0},\"line_color\":{\"type\":\"value\",\"value\":\"#30a2da\"},\"line_alpha\":{\"type\":\"value\",\"value\":1.0},\"line_width\":{\"type\":\"value\",\"value\":1},\"line_join\":{\"type\":\"value\",\"value\":\"bevel\"},\"line_cap\":{\"type\":\"value\",\"value\":\"butt\"},\"line_dash\":{\"type\":\"value\",\"value\":[]},\"line_dash_offset\":{\"type\":\"value\",\"value\":0},\"fill_color\":{\"type\":\"value\",\"value\":\"#30a2da\"},\"fill_alpha\":{\"type\":\"value\",\"value\":1.0},\"hatch_color\":{\"type\":\"value\",\"value\":\"#30a2da\"},\"hatch_alpha\":{\"type\":\"value\",\"value\":1.0},\"hatch_scale\":{\"type\":\"value\",\"value\":12.0},\"hatch_pattern\":{\"type\":\"value\",\"value\":null},\"hatch_weight\":{\"type\":\"value\",\"value\":1.0},\"marker\":{\"type\":\"value\",\"value\":\"circle\"}}},\"nonselection_glyph\":{\"type\":\"object\",\"name\":\"Scatter\",\"id\":\"p1276\",\"attributes\":{\"tags\":[\"apply_ranges\"],\"x\":{\"type\":\"field\",\"field\":\"Lng\"},\"y\":{\"type\":\"field\",\"field\":\"Lat\"},\"size\":{\"type\":\"field\",\"field\":\"size\"},\"line_color\":{\"type\":\"value\",\"value\":\"#30a2da\"},\"line_alpha\":{\"type\":\"value\",\"value\":0.1},\"fill_color\":{\"type\":\"value\",\"value\":\"#30a2da\"},\"fill_alpha\":{\"type\":\"value\",\"value\":0.1},\"hatch_color\":{\"type\":\"value\",\"value\":\"#30a2da\"},\"hatch_alpha\":{\"type\":\"value\",\"value\":0.1}}},\"muted_glyph\":{\"type\":\"object\",\"name\":\"Scatter\",\"id\":\"p1277\",\"attributes\":{\"tags\":[\"apply_ranges\"],\"x\":{\"type\":\"field\",\"field\":\"Lng\"},\"y\":{\"type\":\"field\",\"field\":\"Lat\"},\"size\":{\"type\":\"field\",\"field\":\"size\"},\"line_color\":{\"type\":\"value\",\"value\":\"#30a2da\"},\"line_alpha\":{\"type\":\"value\",\"value\":0.2},\"fill_color\":{\"type\":\"value\",\"value\":\"#30a2da\"},\"fill_alpha\":{\"type\":\"value\",\"value\":0.2},\"hatch_color\":{\"type\":\"value\",\"value\":\"#30a2da\"},\"hatch_alpha\":{\"type\":\"value\",\"value\":0.2}}}}}],\"toolbar\":{\"type\":\"object\",\"name\":\"Toolbar\",\"id\":\"p1241\",\"attributes\":{\"tools\":[{\"type\":\"object\",\"name\":\"WheelZoomTool\",\"id\":\"p1217\",\"attributes\":{\"renderers\":\"auto\",\"zoom_on_axis\":false}},{\"type\":\"object\",\"name\":\"BoxZoomTool\",\"id\":\"p1218\",\"attributes\":{\"overlay\":{\"type\":\"object\",\"name\":\"BoxAnnotation\",\"id\":\"p1006\",\"attributes\":{\"syncable\":false,\"level\":\"overlay\",\"visible\":false,\"left\":{\"type\":\"number\",\"value\":\"nan\"},\"right\":{\"type\":\"number\",\"value\":\"nan\"},\"top\":{\"type\":\"number\",\"value\":\"nan\"},\"bottom\":{\"type\":\"number\",\"value\":\"nan\"},\"left_units\":\"canvas\",\"right_units\":\"canvas\",\"top_units\":\"canvas\",\"bottom_units\":\"canvas\",\"line_color\":\"black\",\"line_alpha\":1.0,\"line_width\":2,\"line_dash\":[4,4],\"fill_color\":\"lightgrey\",\"fill_alpha\":0.5}},\"match_aspect\":true}},{\"type\":\"object\",\"name\":\"HoverTool\",\"id\":\"p1231\",\"attributes\":{\"tags\":[\"hv_created\"],\"renderers\":[{\"id\":\"p1278\"}],\"tooltips\":[[\"Lng\",\"$x{custom}\"],[\"Lat\",\"$y{custom}\"],[\"Humidity\",\"@{Humidity}\"]],\"formatters\":{\"type\":\"map\",\"entries\":[[\"$x\",{\"type\":\"object\",\"name\":\"CustomJSHover\",\"id\":\"p1281\",\"attributes\":{\"code\":\"\\n        const projections = Bokeh.require(\\\"core/util/projections\\\");\\n        const {snap_x, snap_y} = special_vars\\n        const coords = projections.wgs84_mercator.invert(snap_x, snap_y)\\n        return \\\"\\\" + (coords[0]).toFixed(4)\\n    \"}}],[\"$y\",{\"type\":\"object\",\"name\":\"CustomJSHover\",\"id\":\"p1282\",\"attributes\":{\"code\":\"\\n        const projections = Bokeh.require(\\\"core/util/projections\\\");\\n        const {snap_x, snap_y} = special_vars\\n        const coords = projections.wgs84_mercator.invert(snap_x, snap_y)\\n        return \\\"\\\" + (coords[1]).toFixed(4)\\n    \"}}]]}}},{\"type\":\"object\",\"name\":\"PanTool\",\"id\":\"p1255\"},{\"type\":\"object\",\"name\":\"ResetTool\",\"id\":\"p1256\"}],\"active_drag\":{\"id\":\"p1255\"}}},\"left\":[{\"type\":\"object\",\"name\":\"LinearAxis\",\"id\":\"p1249\",\"attributes\":{\"ticker\":{\"type\":\"object\",\"name\":\"MercatorTicker\",\"id\":\"p1259\",\"attributes\":{\"mantissas\":[1,2,5],\"dimension\":\"lat\"}},\"formatter\":{\"type\":\"object\",\"name\":\"MercatorTickFormatter\",\"id\":\"p1260\",\"attributes\":{\"dimension\":\"lat\"}},\"axis_label\":\"Latitude\",\"major_label_policy\":{\"type\":\"object\",\"name\":\"AllLabels\",\"id\":\"p1252\"}}}],\"below\":[{\"type\":\"object\",\"name\":\"LinearAxis\",\"id\":\"p1244\",\"attributes\":{\"ticker\":{\"type\":\"object\",\"name\":\"MercatorTicker\",\"id\":\"p1257\",\"attributes\":{\"mantissas\":[1,2,5],\"dimension\":\"lon\"}},\"formatter\":{\"type\":\"object\",\"name\":\"MercatorTickFormatter\",\"id\":\"p1258\",\"attributes\":{\"dimension\":\"lon\"}},\"axis_label\":\"Longitude\",\"major_label_policy\":{\"type\":\"object\",\"name\":\"AllLabels\",\"id\":\"p1247\"}}}],\"center\":[{\"type\":\"object\",\"name\":\"Grid\",\"id\":\"p1248\",\"attributes\":{\"axis\":{\"id\":\"p1244\"},\"grid_line_color\":null}},{\"type\":\"object\",\"name\":\"Grid\",\"id\":\"p1253\",\"attributes\":{\"dimension\":1,\"axis\":{\"id\":\"p1249\"},\"grid_line_color\":null}}],\"frame_width\":620,\"frame_height\":500,\"min_border_top\":10,\"min_border_bottom\":10,\"min_border_left\":10,\"min_border_right\":10,\"output_backend\":\"webgl\",\"match_aspect\":true}},{\"type\":\"object\",\"name\":\"Spacer\",\"id\":\"p1285\",\"attributes\":{\"name\":\"HSpacer01960\",\"stylesheets\":[\"\\n:host(.pn-loading.pn-arc):before, .pn-loading.pn-arc:before {\\n  background-image: url(\\\"data:image/svg+xml;base64,PHN2ZyB4bWxucz0iaHR0cDovL3d3dy53My5vcmcvMjAwMC9zdmciIHN0eWxlPSJtYXJnaW46IGF1dG87IGJhY2tncm91bmQ6IG5vbmU7IGRpc3BsYXk6IGJsb2NrOyBzaGFwZS1yZW5kZXJpbmc6IGF1dG87IiB2aWV3Qm94PSIwIDAgMTAwIDEwMCIgcHJlc2VydmVBc3BlY3RSYXRpbz0ieE1pZFlNaWQiPiAgPGNpcmNsZSBjeD0iNTAiIGN5PSI1MCIgZmlsbD0ibm9uZSIgc3Ryb2tlPSIjYzNjM2MzIiBzdHJva2Utd2lkdGg9IjEwIiByPSIzNSIgc3Ryb2tlLWRhc2hhcnJheT0iMTY0LjkzMzYxNDMxMzQ2NDE1IDU2Ljk3Nzg3MTQzNzgyMTM4Ij4gICAgPGFuaW1hdGVUcmFuc2Zvcm0gYXR0cmlidXRlTmFtZT0idHJhbnNmb3JtIiB0eXBlPSJyb3RhdGUiIHJlcGVhdENvdW50PSJpbmRlZmluaXRlIiBkdXI9IjFzIiB2YWx1ZXM9IjAgNTAgNTA7MzYwIDUwIDUwIiBrZXlUaW1lcz0iMDsxIj48L2FuaW1hdGVUcmFuc2Zvcm0+ICA8L2NpcmNsZT48L3N2Zz4=\\\");\\n  background-size: auto calc(min(50%, 400px));\\n}\",{\"id\":\"p1202\"},{\"id\":\"p1200\"},{\"id\":\"p1201\"}],\"margin\":0,\"sizing_mode\":\"stretch_width\",\"align\":\"start\"}}]}}],\"defs\":[{\"type\":\"model\",\"name\":\"ReactiveHTML1\"},{\"type\":\"model\",\"name\":\"FlexBox1\",\"properties\":[{\"name\":\"align_content\",\"kind\":\"Any\",\"default\":\"flex-start\"},{\"name\":\"align_items\",\"kind\":\"Any\",\"default\":\"flex-start\"},{\"name\":\"flex_direction\",\"kind\":\"Any\",\"default\":\"row\"},{\"name\":\"flex_wrap\",\"kind\":\"Any\",\"default\":\"wrap\"},{\"name\":\"justify_content\",\"kind\":\"Any\",\"default\":\"flex-start\"}]},{\"type\":\"model\",\"name\":\"FloatPanel1\",\"properties\":[{\"name\":\"config\",\"kind\":\"Any\",\"default\":{\"type\":\"map\"}},{\"name\":\"contained\",\"kind\":\"Any\",\"default\":true},{\"name\":\"position\",\"kind\":\"Any\",\"default\":\"right-top\"},{\"name\":\"offsetx\",\"kind\":\"Any\",\"default\":null},{\"name\":\"offsety\",\"kind\":\"Any\",\"default\":null},{\"name\":\"theme\",\"kind\":\"Any\",\"default\":\"primary\"},{\"name\":\"status\",\"kind\":\"Any\",\"default\":\"normalized\"}]},{\"type\":\"model\",\"name\":\"GridStack1\",\"properties\":[{\"name\":\"mode\",\"kind\":\"Any\",\"default\":\"warn\"},{\"name\":\"ncols\",\"kind\":\"Any\",\"default\":null},{\"name\":\"nrows\",\"kind\":\"Any\",\"default\":null},{\"name\":\"allow_resize\",\"kind\":\"Any\",\"default\":true},{\"name\":\"allow_drag\",\"kind\":\"Any\",\"default\":true},{\"name\":\"state\",\"kind\":\"Any\",\"default\":[]}]},{\"type\":\"model\",\"name\":\"drag1\",\"properties\":[{\"name\":\"slider_width\",\"kind\":\"Any\",\"default\":5},{\"name\":\"slider_color\",\"kind\":\"Any\",\"default\":\"black\"},{\"name\":\"value\",\"kind\":\"Any\",\"default\":50}]},{\"type\":\"model\",\"name\":\"click1\",\"properties\":[{\"name\":\"terminal_output\",\"kind\":\"Any\",\"default\":\"\"},{\"name\":\"debug_name\",\"kind\":\"Any\",\"default\":\"\"},{\"name\":\"clears\",\"kind\":\"Any\",\"default\":0}]},{\"type\":\"model\",\"name\":\"copy_to_clipboard1\",\"properties\":[{\"name\":\"fill\",\"kind\":\"Any\",\"default\":\"none\"},{\"name\":\"value\",\"kind\":\"Any\",\"default\":null}]},{\"type\":\"model\",\"name\":\"FastWrapper1\",\"properties\":[{\"name\":\"object\",\"kind\":\"Any\",\"default\":null},{\"name\":\"style\",\"kind\":\"Any\",\"default\":null}]},{\"type\":\"model\",\"name\":\"NotificationAreaBase1\",\"properties\":[{\"name\":\"js_events\",\"kind\":\"Any\",\"default\":{\"type\":\"map\"}},{\"name\":\"position\",\"kind\":\"Any\",\"default\":\"bottom-right\"},{\"name\":\"_clear\",\"kind\":\"Any\",\"default\":0}]},{\"type\":\"model\",\"name\":\"NotificationArea1\",\"properties\":[{\"name\":\"js_events\",\"kind\":\"Any\",\"default\":{\"type\":\"map\"}},{\"name\":\"notifications\",\"kind\":\"Any\",\"default\":[]},{\"name\":\"position\",\"kind\":\"Any\",\"default\":\"bottom-right\"},{\"name\":\"_clear\",\"kind\":\"Any\",\"default\":0},{\"name\":\"types\",\"kind\":\"Any\",\"default\":[{\"type\":\"map\",\"entries\":[[\"type\",\"warning\"],[\"background\",\"#ffc107\"],[\"icon\",{\"type\":\"map\",\"entries\":[[\"className\",\"fas fa-exclamation-triangle\"],[\"tagName\",\"i\"],[\"color\",\"white\"]]}]]},{\"type\":\"map\",\"entries\":[[\"type\",\"info\"],[\"background\",\"#007bff\"],[\"icon\",{\"type\":\"map\",\"entries\":[[\"className\",\"fas fa-info-circle\"],[\"tagName\",\"i\"],[\"color\",\"white\"]]}]]}]}]},{\"type\":\"model\",\"name\":\"Notification\",\"properties\":[{\"name\":\"background\",\"kind\":\"Any\",\"default\":null},{\"name\":\"duration\",\"kind\":\"Any\",\"default\":3000},{\"name\":\"icon\",\"kind\":\"Any\",\"default\":null},{\"name\":\"message\",\"kind\":\"Any\",\"default\":\"\"},{\"name\":\"notification_type\",\"kind\":\"Any\",\"default\":null},{\"name\":\"_destroyed\",\"kind\":\"Any\",\"default\":false}]},{\"type\":\"model\",\"name\":\"TemplateActions1\",\"properties\":[{\"name\":\"open_modal\",\"kind\":\"Any\",\"default\":0},{\"name\":\"close_modal\",\"kind\":\"Any\",\"default\":0}]},{\"type\":\"model\",\"name\":\"BootstrapTemplateActions1\",\"properties\":[{\"name\":\"open_modal\",\"kind\":\"Any\",\"default\":0},{\"name\":\"close_modal\",\"kind\":\"Any\",\"default\":0}]},{\"type\":\"model\",\"name\":\"MaterialTemplateActions1\",\"properties\":[{\"name\":\"open_modal\",\"kind\":\"Any\",\"default\":0},{\"name\":\"close_modal\",\"kind\":\"Any\",\"default\":0}]}]}};\n",
       "  var render_items = [{\"docid\":\"7a49bd91-29e8-4cbd-a7c6-7cb9ca186447\",\"roots\":{\"p1199\":\"c152d3a6-f41e-4e19-9aa4-10a3c585e689\"},\"root_ids\":[\"p1199\"]}];\n",
       "  var docs = Object.values(docs_json)\n",
       "  if (!docs) {\n",
       "    return\n",
       "  }\n",
       "  const py_version = docs[0].version.replace('rc', '-rc.').replace('.dev', '-dev.')\n",
       "  function embed_document(root) {\n",
       "    var Bokeh = get_bokeh(root)\n",
       "    Bokeh.embed.embed_items_notebook(docs_json, render_items);\n",
       "    for (const render_item of render_items) {\n",
       "      for (const root_id of render_item.root_ids) {\n",
       "\tconst id_el = document.getElementById(root_id)\n",
       "\tif (id_el.children.length && (id_el.children[0].className === 'bk-root')) {\n",
       "\t  const root_el = id_el.children[0]\n",
       "\t  root_el.id = root_el.id + '-rendered'\n",
       "\t}\n",
       "      }\n",
       "    }\n",
       "  }\n",
       "  function get_bokeh(root) {\n",
       "    if (root.Bokeh === undefined) {\n",
       "      return null\n",
       "    } else if (root.Bokeh.version !== py_version) {\n",
       "      if (root.Bokeh.versions === undefined || !root.Bokeh.versions.has(py_version)) {\n",
       "\treturn null\n",
       "      }\n",
       "      return root.Bokeh.versions.get(py_version);\n",
       "    } else if (root.Bokeh.version === py_version) {\n",
       "      return root.Bokeh\n",
       "    }\n",
       "    return null\n",
       "  }\n",
       "  function is_loaded(root) {\n",
       "    var Bokeh = get_bokeh(root)\n",
       "    return (Bokeh != null && Bokeh.Panel !== undefined)\n",
       "  }\n",
       "  if (is_loaded(root)) {\n",
       "    embed_document(root);\n",
       "  } else {\n",
       "    var attempts = 0;\n",
       "    var timer = setInterval(function(root) {\n",
       "      if (is_loaded(root)) {\n",
       "        clearInterval(timer);\n",
       "        embed_document(root);\n",
       "      } else if (document.readyState == \"complete\") {\n",
       "        attempts++;\n",
       "        if (attempts > 200) {\n",
       "          clearInterval(timer);\n",
       "\t  var Bokeh = get_bokeh(root)\n",
       "\t  if (Bokeh == null || Bokeh.Panel == null) {\n",
       "            console.warn(\"Panel: ERROR: Unable to run Panel code because Bokeh or Panel library is missing\");\n",
       "\t  } else {\n",
       "\t    console.warn(\"Panel: WARNING: Attempting to render but not all required libraries could be resolved.\")\n",
       "\t    embed_document(root)\n",
       "\t  }\n",
       "        }\n",
       "      }\n",
       "    }, 25, root)\n",
       "  }\n",
       "})(window);</script>"
      ],
      "text/plain": [
       ":Overlay\n",
       "   .WMTS.I   :WMTS   [Longitude,Latitude]\n",
       "   .Points.I :Points   [Lng,Lat]   (Humidity)"
      ]
     },
     "execution_count": 10,
     "metadata": {
      "application/vnd.holoviews_exec.v0+json": {
       "id": "p1199"
      }
     },
     "output_type": "execute_result"
    }
   ],
   "source": [
    "\n",
    "%%capture --no-display\n",
    "\n",
    "# Configure the map plot\n",
    "# Configure the map plot_3\n",
    "map_plot = city_data_df.hvplot.points(\n",
    "    \"Lng\",\n",
    "    \"Lat\",\n",
    "    geo = True,\n",
    "    tiles = \"OSM\",\n",
    "    frame_width = 620,\n",
    "    frame_height = 500,\n",
    "    size = \"Humidity\",\n",
    "    scale = 1\n",
    "    ,\n",
    "    \n",
    ")\n",
    "\n",
    "# Display the map plot\n",
    "map_plot\n",
    "\n",
    "\n"
   ]
  },
  {
   "cell_type": "markdown",
   "metadata": {},
   "source": [
    "### Step 2: Narrow down the `city_data_df` DataFrame to find your ideal weather condition"
   ]
  },
  {
   "cell_type": "code",
   "execution_count": 20,
   "metadata": {},
   "outputs": [
    {
     "name": "stdout",
     "output_type": "stream",
     "text": [
      "     City_ID            City      Lat       Lng  Max Temp  Humidity  \\\n",
      "0          0        waitangi -43.9535 -176.5597     13.10        81   \n",
      "1          1       jamestown  42.0970  -79.2353     -1.01        85   \n",
      "2          2  ribeira grande  38.5167  -28.7000     15.05        74   \n",
      "3          3   blackmans bay -43.0167  147.3167     17.46        56   \n",
      "4          4   mount gambier -37.8333  140.7667     22.35        23   \n",
      "..       ...             ...      ...       ...       ...       ...   \n",
      "589      589   labrador city  52.9463  -66.9114     -3.90        75   \n",
      "591      591         krupina  48.3554   19.0647      1.81       100   \n",
      "592      592       tazacorte  28.6290  -17.9293     19.86        72   \n",
      "593      593         tindouf  27.6711   -8.1474     14.32        76   \n",
      "594      594       priozersk  61.0393   30.1291     -0.31        94   \n",
      "\n",
      "     Cloudiness  Wind Speed Country        Date  \n",
      "0            32       13.97      NZ  1713755935  \n",
      "1             3        2.13      US  1713755936  \n",
      "2           100        2.65      PT  1713755936  \n",
      "3            11        1.64      AU  1713755936  \n",
      "4             2        3.35      AU  1713755936  \n",
      "..          ...         ...     ...         ...  \n",
      "589          76        2.79      CA  1713756081  \n",
      "591         100        0.96      SK  1713756081  \n",
      "592         100        2.37      ES  1713756082  \n",
      "593          31        4.78      DZ  1713756082  \n",
      "594         100        8.73      RU  1713756082  \n",
      "\n",
      "[565 rows x 10 columns]\n"
     ]
    },
    {
     "name": "stderr",
     "output_type": "stream",
     "text": [
      "C:\\Users\\jrobe\\AppData\\Local\\Temp\\ipykernel_13840\\578257499.py:6: SettingWithCopyWarning: \n",
      "A value is trying to be set on a copy of a slice from a DataFrame\n",
      "\n",
      "See the caveats in the documentation: https://pandas.pydata.org/pandas-docs/stable/user_guide/indexing.html#returning-a-view-versus-a-copy\n",
      "  filtered_df.dropna(inplace=True)\n"
     ]
    }
   ],
   "source": [
    "# Narrow down cities that fit criteria and drop any results with null values\n",
    "filtered_df = city_data_df[(city_data_df['Max Temp'] < 30)]\n",
    "\n",
    "\n",
    "# Drop any rows with null values\n",
    "filtered_df.dropna(inplace=True)\n",
    "\n",
    "# Display sample data\n",
    "print(filtered_df)"
   ]
  },
  {
   "cell_type": "markdown",
   "metadata": {},
   "source": [
    "### Step 3: Create a new DataFrame called `hotel_df`."
   ]
  },
  {
   "cell_type": "code",
   "execution_count": 7,
   "metadata": {},
   "outputs": [
    {
     "name": "stdout",
     "output_type": "stream",
     "text": [
      "               City Country      Lat       Lng  Humidity Hotel Name\n",
      "0          waitangi      NZ -43.9535 -176.5597        81           \n",
      "1         jamestown      US  42.0970  -79.2353        85           \n",
      "2    ribeira grande      PT  38.5167  -28.7000        74           \n",
      "3     blackmans bay      AU -43.0167  147.3167        56           \n",
      "4     mount gambier      AU -37.8333  140.7667        23           \n",
      "..              ...     ...      ...       ...       ...        ...\n",
      "590        bengkulu      ID  -3.8004  102.2655        68           \n",
      "591         krupina      SK  48.3554   19.0647       100           \n",
      "592       tazacorte      ES  28.6290  -17.9293        72           \n",
      "593         tindouf      DZ  27.6711   -8.1474        76           \n",
      "594       priozersk      RU  61.0393   30.1291        94           \n",
      "\n",
      "[595 rows x 6 columns]\n"
     ]
    }
   ],
   "source": [
    "# Use the Pandas copy function to create DataFrame called hotel_df to store the city, country, coordinates, and humidity\n",
    "hotel_df = city_data_df[['City', 'Country', 'Lat', 'Lng', 'Humidity']].copy()\n",
    "\n",
    "\n",
    "# Add an empty column, \"Hotel Name,\" to the DataFrame so you can store the hotel found using the Geoapify API\n",
    "hotel_df['Hotel Name'] = ''\n",
    "\n",
    "\n",
    "# Display sample data\n",
    "print(hotel_df)"
   ]
  },
  {
   "cell_type": "markdown",
   "metadata": {},
   "source": [
    "### Step 4: For each city, use the Geoapify API to find the first hotel located within 10,000 metres of your coordinates."
   ]
  },
  {
   "cell_type": "code",
   "execution_count": 44,
   "metadata": {},
   "outputs": [
    {
     "name": "stdout",
     "output_type": "stream",
     "text": [
      "Error: 401\n",
      "No hotels found near waitangi.\n",
      "Error: 401\n",
      "No hotels found near jamestown.\n",
      "Error: 401\n",
      "No hotels found near ribeira grande.\n",
      "Error: 401\n",
      "No hotels found near blackmans bay.\n",
      "Error: 401\n",
      "No hotels found near mount gambier.\n",
      "Error: 401\n",
      "No hotels found near chernyshevsk.\n",
      "Error: 401\n",
      "No hotels found near edinburgh of the seven seas.\n"
     ]
    }
   ],
   "source": [
    "import requests\n",
    "\n",
    "def find_nearest_hotel(Lat, Lng):\n",
    "    # Geoapify API endpoint for finding hotels\n",
    "    url = \"https://api.geoapify.com/v2/places?categories=accommodation.hotel&filter=rect:-101.18657623062036,25.07930207869075,-101.06362376937768,24.978861381826217&limit=20&apiKey=geoapify_key\"\n",
    "    \n",
    "    # Parameters for the API request\n",
    "    params = {\n",
    "        \"Lat\": Lat,\n",
    "        \"Lng\": Lng,\n",
    "        \"categories\": \"lodging\",\n",
    "        \"radius\": 10000,  # 10,000 meters\n",
    "        \"apiKey\": \"geoapify_key\"  \n",
    "    }\n",
    "    \n",
    "    # Sending the API request\n",
    "    response = requests.get(url, params=params)\n",
    "    \n",
    "    # Checking if the request was successful\n",
    "    if response.status_code == 200:\n",
    "        data = response.json()\n",
    "        if 'features' in data and len(data['features']) > 0:\n",
    "            # Retrieve information about the first hotel found\n",
    "            hotel_info = data['features'][0]['properties']\n",
    "            return hotel_info\n",
    "    else:\n",
    "        print(\"Error:\", response.status_code)\n",
    "        return None\n",
    "\n",
    "# Iterate through each city in the filtered DataFrame\n",
    "for index, row in filtered_df.iterrows():\n",
    "    city_name = row['City']\n",
    "    city_latitude = row['Lat']\n",
    "    city_longitude = row['Lng']\n",
    "    \n",
    "    # Find the nearest hotel for the current city\n",
    "    hotel_info = find_nearest_hotel(city_latitude, city_longitude)\n",
    "    \n",
    "    # Display the city and hotel information\n",
    "    if hotel_info:\n",
    "        print(f\"For {city_name}, nearest hotel is {hotel_info['name']}, located at {hotel_info['address']}.\")\n",
    "    else:\n",
    "        print(f\"No hotels found near {city_name}.\")\n",
    "\n"
   ]
  },
  {
   "cell_type": "code",
   "execution_count": 22,
   "metadata": {},
   "outputs": [
    {
     "name": "stdout",
     "output_type": "stream",
     "text": [
      "Starting hotel search\n",
      "waitangi - nearest hotel: No hotel found\n",
      "jamestown - nearest hotel: No hotel found\n",
      "ribeira grande - nearest hotel: No hotel found\n",
      "blackmans bay - nearest hotel: No hotel found\n",
      "mount gambier - nearest hotel: No hotel found\n",
      "bazpur - nearest hotel: No hotel found\n",
      "chernyshevsk - nearest hotel: No hotel found\n",
      "edinburgh of the seven seas - nearest hotel: No hotel found\n",
      "bilibino - nearest hotel: No hotel found\n",
      "georgetown - nearest hotel: No hotel found\n",
      "bredasdorp - nearest hotel: No hotel found\n",
      "selfoss - nearest hotel: No hotel found\n",
      "kodiak - nearest hotel: No hotel found\n",
      "grytviken - nearest hotel: No hotel found\n",
      "zhosaly - nearest hotel: No hotel found\n",
      "egilsstadir - nearest hotel: No hotel found\n",
      "kaya - nearest hotel: No hotel found\n",
      "adamstown - nearest hotel: No hotel found\n",
      "port-aux-francais - nearest hotel: No hotel found\n",
      "aksu - nearest hotel: No hotel found\n",
      "vila velha - nearest hotel: No hotel found\n",
      "castillejos - nearest hotel: No hotel found\n",
      "kill devil hills - nearest hotel: No hotel found\n",
      "bethel - nearest hotel: No hotel found\n",
      "qaqortoq - nearest hotel: No hotel found\n",
      "fortuna - nearest hotel: No hotel found\n",
      "wailua homesteads - nearest hotel: No hotel found\n",
      "san andres - nearest hotel: No hotel found\n",
      "ad dilam - nearest hotel: No hotel found\n",
      "gannan - nearest hotel: No hotel found\n",
      "chinde - nearest hotel: No hotel found\n",
      "margaret river - nearest hotel: No hotel found\n"
     ]
    },
    {
     "ename": "KeyboardInterrupt",
     "evalue": "",
     "output_type": "error",
     "traceback": [
      "\u001b[1;31m---------------------------------------------------------------------------\u001b[0m",
      "\u001b[1;31mKeyboardInterrupt\u001b[0m                         Traceback (most recent call last)",
      "Cell \u001b[1;32mIn[22], line 26\u001b[0m\n\u001b[0;32m     22\u001b[0m base_url \u001b[38;5;241m=\u001b[39m \u001b[38;5;124m\"\u001b[39m\u001b[38;5;124mhttps://maps.geoapify.com/v1/tile/carto/\u001b[39m\u001b[38;5;132;01m{z}\u001b[39;00m\u001b[38;5;124m/\u001b[39m\u001b[38;5;132;01m{x}\u001b[39;00m\u001b[38;5;124m/\u001b[39m\u001b[38;5;132;01m{y}\u001b[39;00m\u001b[38;5;124m.png?&apiKey=\u001b[39m\u001b[38;5;124m\"\u001b[39m\n\u001b[0;32m     25\u001b[0m \u001b[38;5;66;03m# Make and API request using the params dictionary\u001b[39;00m\n\u001b[1;32m---> 26\u001b[0m response \u001b[38;5;241m=\u001b[39m requests\u001b[38;5;241m.\u001b[39mget(base_url, params\u001b[38;5;241m=\u001b[39mparams)\n\u001b[0;32m     28\u001b[0m \u001b[38;5;66;03m# Convert the API response to JSON format\u001b[39;00m\n\u001b[0;32m     29\u001b[0m name_address \u001b[38;5;241m=\u001b[39m response\u001b[38;5;241m.\u001b[39mjson()\n",
      "File \u001b[1;32mc:\\Users\\jrobe\\anaconda3\\envs\\dev\\Lib\\site-packages\\requests\\api.py:73\u001b[0m, in \u001b[0;36mget\u001b[1;34m(url, params, **kwargs)\u001b[0m\n\u001b[0;32m     62\u001b[0m \u001b[38;5;28;01mdef\u001b[39;00m \u001b[38;5;21mget\u001b[39m(url, params\u001b[38;5;241m=\u001b[39m\u001b[38;5;28;01mNone\u001b[39;00m, \u001b[38;5;241m*\u001b[39m\u001b[38;5;241m*\u001b[39mkwargs):\n\u001b[0;32m     63\u001b[0m \u001b[38;5;250m    \u001b[39m\u001b[38;5;124mr\u001b[39m\u001b[38;5;124;03m\"\"\"Sends a GET request.\u001b[39;00m\n\u001b[0;32m     64\u001b[0m \n\u001b[0;32m     65\u001b[0m \u001b[38;5;124;03m    :param url: URL for the new :class:`Request` object.\u001b[39;00m\n\u001b[1;32m   (...)\u001b[0m\n\u001b[0;32m     70\u001b[0m \u001b[38;5;124;03m    :rtype: requests.Response\u001b[39;00m\n\u001b[0;32m     71\u001b[0m \u001b[38;5;124;03m    \"\"\"\u001b[39;00m\n\u001b[1;32m---> 73\u001b[0m     \u001b[38;5;28;01mreturn\u001b[39;00m request(\u001b[38;5;124m\"\u001b[39m\u001b[38;5;124mget\u001b[39m\u001b[38;5;124m\"\u001b[39m, url, params\u001b[38;5;241m=\u001b[39mparams, \u001b[38;5;241m*\u001b[39m\u001b[38;5;241m*\u001b[39mkwargs)\n",
      "File \u001b[1;32mc:\\Users\\jrobe\\anaconda3\\envs\\dev\\Lib\\site-packages\\requests\\api.py:59\u001b[0m, in \u001b[0;36mrequest\u001b[1;34m(method, url, **kwargs)\u001b[0m\n\u001b[0;32m     55\u001b[0m \u001b[38;5;66;03m# By using the 'with' statement we are sure the session is closed, thus we\u001b[39;00m\n\u001b[0;32m     56\u001b[0m \u001b[38;5;66;03m# avoid leaving sockets open which can trigger a ResourceWarning in some\u001b[39;00m\n\u001b[0;32m     57\u001b[0m \u001b[38;5;66;03m# cases, and look like a memory leak in others.\u001b[39;00m\n\u001b[0;32m     58\u001b[0m \u001b[38;5;28;01mwith\u001b[39;00m sessions\u001b[38;5;241m.\u001b[39mSession() \u001b[38;5;28;01mas\u001b[39;00m session:\n\u001b[1;32m---> 59\u001b[0m     \u001b[38;5;28;01mreturn\u001b[39;00m session\u001b[38;5;241m.\u001b[39mrequest(method\u001b[38;5;241m=\u001b[39mmethod, url\u001b[38;5;241m=\u001b[39murl, \u001b[38;5;241m*\u001b[39m\u001b[38;5;241m*\u001b[39mkwargs)\n",
      "File \u001b[1;32mc:\\Users\\jrobe\\anaconda3\\envs\\dev\\Lib\\site-packages\\requests\\sessions.py:589\u001b[0m, in \u001b[0;36mSession.request\u001b[1;34m(self, method, url, params, data, headers, cookies, files, auth, timeout, allow_redirects, proxies, hooks, stream, verify, cert, json)\u001b[0m\n\u001b[0;32m    584\u001b[0m send_kwargs \u001b[38;5;241m=\u001b[39m {\n\u001b[0;32m    585\u001b[0m     \u001b[38;5;124m\"\u001b[39m\u001b[38;5;124mtimeout\u001b[39m\u001b[38;5;124m\"\u001b[39m: timeout,\n\u001b[0;32m    586\u001b[0m     \u001b[38;5;124m\"\u001b[39m\u001b[38;5;124mallow_redirects\u001b[39m\u001b[38;5;124m\"\u001b[39m: allow_redirects,\n\u001b[0;32m    587\u001b[0m }\n\u001b[0;32m    588\u001b[0m send_kwargs\u001b[38;5;241m.\u001b[39mupdate(settings)\n\u001b[1;32m--> 589\u001b[0m resp \u001b[38;5;241m=\u001b[39m \u001b[38;5;28mself\u001b[39m\u001b[38;5;241m.\u001b[39msend(prep, \u001b[38;5;241m*\u001b[39m\u001b[38;5;241m*\u001b[39msend_kwargs)\n\u001b[0;32m    591\u001b[0m \u001b[38;5;28;01mreturn\u001b[39;00m resp\n",
      "File \u001b[1;32mc:\\Users\\jrobe\\anaconda3\\envs\\dev\\Lib\\site-packages\\requests\\sessions.py:703\u001b[0m, in \u001b[0;36mSession.send\u001b[1;34m(self, request, **kwargs)\u001b[0m\n\u001b[0;32m    700\u001b[0m start \u001b[38;5;241m=\u001b[39m preferred_clock()\n\u001b[0;32m    702\u001b[0m \u001b[38;5;66;03m# Send the request\u001b[39;00m\n\u001b[1;32m--> 703\u001b[0m r \u001b[38;5;241m=\u001b[39m adapter\u001b[38;5;241m.\u001b[39msend(request, \u001b[38;5;241m*\u001b[39m\u001b[38;5;241m*\u001b[39mkwargs)\n\u001b[0;32m    705\u001b[0m \u001b[38;5;66;03m# Total elapsed time of the request (approximately)\u001b[39;00m\n\u001b[0;32m    706\u001b[0m elapsed \u001b[38;5;241m=\u001b[39m preferred_clock() \u001b[38;5;241m-\u001b[39m start\n",
      "File \u001b[1;32mc:\\Users\\jrobe\\anaconda3\\envs\\dev\\Lib\\site-packages\\requests\\adapters.py:486\u001b[0m, in \u001b[0;36mHTTPAdapter.send\u001b[1;34m(self, request, stream, timeout, verify, cert, proxies)\u001b[0m\n\u001b[0;32m    483\u001b[0m     timeout \u001b[38;5;241m=\u001b[39m TimeoutSauce(connect\u001b[38;5;241m=\u001b[39mtimeout, read\u001b[38;5;241m=\u001b[39mtimeout)\n\u001b[0;32m    485\u001b[0m \u001b[38;5;28;01mtry\u001b[39;00m:\n\u001b[1;32m--> 486\u001b[0m     resp \u001b[38;5;241m=\u001b[39m conn\u001b[38;5;241m.\u001b[39murlopen(\n\u001b[0;32m    487\u001b[0m         method\u001b[38;5;241m=\u001b[39mrequest\u001b[38;5;241m.\u001b[39mmethod,\n\u001b[0;32m    488\u001b[0m         url\u001b[38;5;241m=\u001b[39murl,\n\u001b[0;32m    489\u001b[0m         body\u001b[38;5;241m=\u001b[39mrequest\u001b[38;5;241m.\u001b[39mbody,\n\u001b[0;32m    490\u001b[0m         headers\u001b[38;5;241m=\u001b[39mrequest\u001b[38;5;241m.\u001b[39mheaders,\n\u001b[0;32m    491\u001b[0m         redirect\u001b[38;5;241m=\u001b[39m\u001b[38;5;28;01mFalse\u001b[39;00m,\n\u001b[0;32m    492\u001b[0m         assert_same_host\u001b[38;5;241m=\u001b[39m\u001b[38;5;28;01mFalse\u001b[39;00m,\n\u001b[0;32m    493\u001b[0m         preload_content\u001b[38;5;241m=\u001b[39m\u001b[38;5;28;01mFalse\u001b[39;00m,\n\u001b[0;32m    494\u001b[0m         decode_content\u001b[38;5;241m=\u001b[39m\u001b[38;5;28;01mFalse\u001b[39;00m,\n\u001b[0;32m    495\u001b[0m         retries\u001b[38;5;241m=\u001b[39m\u001b[38;5;28mself\u001b[39m\u001b[38;5;241m.\u001b[39mmax_retries,\n\u001b[0;32m    496\u001b[0m         timeout\u001b[38;5;241m=\u001b[39mtimeout,\n\u001b[0;32m    497\u001b[0m         chunked\u001b[38;5;241m=\u001b[39mchunked,\n\u001b[0;32m    498\u001b[0m     )\n\u001b[0;32m    500\u001b[0m \u001b[38;5;28;01mexcept\u001b[39;00m (ProtocolError, \u001b[38;5;167;01mOSError\u001b[39;00m) \u001b[38;5;28;01mas\u001b[39;00m err:\n\u001b[0;32m    501\u001b[0m     \u001b[38;5;28;01mraise\u001b[39;00m \u001b[38;5;167;01mConnectionError\u001b[39;00m(err, request\u001b[38;5;241m=\u001b[39mrequest)\n",
      "File \u001b[1;32mc:\\Users\\jrobe\\anaconda3\\envs\\dev\\Lib\\site-packages\\urllib3\\connectionpool.py:790\u001b[0m, in \u001b[0;36mHTTPConnectionPool.urlopen\u001b[1;34m(self, method, url, body, headers, retries, redirect, assert_same_host, timeout, pool_timeout, release_conn, chunked, body_pos, preload_content, decode_content, **response_kw)\u001b[0m\n\u001b[0;32m    787\u001b[0m response_conn \u001b[38;5;241m=\u001b[39m conn \u001b[38;5;28;01mif\u001b[39;00m \u001b[38;5;129;01mnot\u001b[39;00m release_conn \u001b[38;5;28;01melse\u001b[39;00m \u001b[38;5;28;01mNone\u001b[39;00m\n\u001b[0;32m    789\u001b[0m \u001b[38;5;66;03m# Make the request on the HTTPConnection object\u001b[39;00m\n\u001b[1;32m--> 790\u001b[0m response \u001b[38;5;241m=\u001b[39m \u001b[38;5;28mself\u001b[39m\u001b[38;5;241m.\u001b[39m_make_request(\n\u001b[0;32m    791\u001b[0m     conn,\n\u001b[0;32m    792\u001b[0m     method,\n\u001b[0;32m    793\u001b[0m     url,\n\u001b[0;32m    794\u001b[0m     timeout\u001b[38;5;241m=\u001b[39mtimeout_obj,\n\u001b[0;32m    795\u001b[0m     body\u001b[38;5;241m=\u001b[39mbody,\n\u001b[0;32m    796\u001b[0m     headers\u001b[38;5;241m=\u001b[39mheaders,\n\u001b[0;32m    797\u001b[0m     chunked\u001b[38;5;241m=\u001b[39mchunked,\n\u001b[0;32m    798\u001b[0m     retries\u001b[38;5;241m=\u001b[39mretries,\n\u001b[0;32m    799\u001b[0m     response_conn\u001b[38;5;241m=\u001b[39mresponse_conn,\n\u001b[0;32m    800\u001b[0m     preload_content\u001b[38;5;241m=\u001b[39mpreload_content,\n\u001b[0;32m    801\u001b[0m     decode_content\u001b[38;5;241m=\u001b[39mdecode_content,\n\u001b[0;32m    802\u001b[0m     \u001b[38;5;241m*\u001b[39m\u001b[38;5;241m*\u001b[39mresponse_kw,\n\u001b[0;32m    803\u001b[0m )\n\u001b[0;32m    805\u001b[0m \u001b[38;5;66;03m# Everything went great!\u001b[39;00m\n\u001b[0;32m    806\u001b[0m clean_exit \u001b[38;5;241m=\u001b[39m \u001b[38;5;28;01mTrue\u001b[39;00m\n",
      "File \u001b[1;32mc:\\Users\\jrobe\\anaconda3\\envs\\dev\\Lib\\site-packages\\urllib3\\connectionpool.py:536\u001b[0m, in \u001b[0;36mHTTPConnectionPool._make_request\u001b[1;34m(self, conn, method, url, body, headers, retries, timeout, chunked, response_conn, preload_content, decode_content, enforce_content_length)\u001b[0m\n\u001b[0;32m    534\u001b[0m \u001b[38;5;66;03m# Receive the response from the server\u001b[39;00m\n\u001b[0;32m    535\u001b[0m \u001b[38;5;28;01mtry\u001b[39;00m:\n\u001b[1;32m--> 536\u001b[0m     response \u001b[38;5;241m=\u001b[39m conn\u001b[38;5;241m.\u001b[39mgetresponse()\n\u001b[0;32m    537\u001b[0m \u001b[38;5;28;01mexcept\u001b[39;00m (BaseSSLError, \u001b[38;5;167;01mOSError\u001b[39;00m) \u001b[38;5;28;01mas\u001b[39;00m e:\n\u001b[0;32m    538\u001b[0m     \u001b[38;5;28mself\u001b[39m\u001b[38;5;241m.\u001b[39m_raise_timeout(err\u001b[38;5;241m=\u001b[39me, url\u001b[38;5;241m=\u001b[39murl, timeout_value\u001b[38;5;241m=\u001b[39mread_timeout)\n",
      "File \u001b[1;32mc:\\Users\\jrobe\\anaconda3\\envs\\dev\\Lib\\site-packages\\urllib3\\connection.py:461\u001b[0m, in \u001b[0;36mHTTPConnection.getresponse\u001b[1;34m(self)\u001b[0m\n\u001b[0;32m    458\u001b[0m \u001b[38;5;28;01mfrom\u001b[39;00m \u001b[38;5;21;01m.\u001b[39;00m\u001b[38;5;21;01mresponse\u001b[39;00m \u001b[38;5;28;01mimport\u001b[39;00m HTTPResponse\n\u001b[0;32m    460\u001b[0m \u001b[38;5;66;03m# Get the response from http.client.HTTPConnection\u001b[39;00m\n\u001b[1;32m--> 461\u001b[0m httplib_response \u001b[38;5;241m=\u001b[39m \u001b[38;5;28msuper\u001b[39m()\u001b[38;5;241m.\u001b[39mgetresponse()\n\u001b[0;32m    463\u001b[0m \u001b[38;5;28;01mtry\u001b[39;00m:\n\u001b[0;32m    464\u001b[0m     assert_header_parsing(httplib_response\u001b[38;5;241m.\u001b[39mmsg)\n",
      "File \u001b[1;32mc:\\Users\\jrobe\\anaconda3\\envs\\dev\\Lib\\http\\client.py:1423\u001b[0m, in \u001b[0;36mHTTPConnection.getresponse\u001b[1;34m(self)\u001b[0m\n\u001b[0;32m   1421\u001b[0m \u001b[38;5;28;01mtry\u001b[39;00m:\n\u001b[0;32m   1422\u001b[0m     \u001b[38;5;28;01mtry\u001b[39;00m:\n\u001b[1;32m-> 1423\u001b[0m         response\u001b[38;5;241m.\u001b[39mbegin()\n\u001b[0;32m   1424\u001b[0m     \u001b[38;5;28;01mexcept\u001b[39;00m \u001b[38;5;167;01mConnectionError\u001b[39;00m:\n\u001b[0;32m   1425\u001b[0m         \u001b[38;5;28mself\u001b[39m\u001b[38;5;241m.\u001b[39mclose()\n",
      "File \u001b[1;32mc:\\Users\\jrobe\\anaconda3\\envs\\dev\\Lib\\http\\client.py:331\u001b[0m, in \u001b[0;36mHTTPResponse.begin\u001b[1;34m(self)\u001b[0m\n\u001b[0;32m    329\u001b[0m \u001b[38;5;66;03m# read until we get a non-100 response\u001b[39;00m\n\u001b[0;32m    330\u001b[0m \u001b[38;5;28;01mwhile\u001b[39;00m \u001b[38;5;28;01mTrue\u001b[39;00m:\n\u001b[1;32m--> 331\u001b[0m     version, status, reason \u001b[38;5;241m=\u001b[39m \u001b[38;5;28mself\u001b[39m\u001b[38;5;241m.\u001b[39m_read_status()\n\u001b[0;32m    332\u001b[0m     \u001b[38;5;28;01mif\u001b[39;00m status \u001b[38;5;241m!=\u001b[39m CONTINUE:\n\u001b[0;32m    333\u001b[0m         \u001b[38;5;28;01mbreak\u001b[39;00m\n",
      "File \u001b[1;32mc:\\Users\\jrobe\\anaconda3\\envs\\dev\\Lib\\http\\client.py:292\u001b[0m, in \u001b[0;36mHTTPResponse._read_status\u001b[1;34m(self)\u001b[0m\n\u001b[0;32m    291\u001b[0m \u001b[38;5;28;01mdef\u001b[39;00m \u001b[38;5;21m_read_status\u001b[39m(\u001b[38;5;28mself\u001b[39m):\n\u001b[1;32m--> 292\u001b[0m     line \u001b[38;5;241m=\u001b[39m \u001b[38;5;28mstr\u001b[39m(\u001b[38;5;28mself\u001b[39m\u001b[38;5;241m.\u001b[39mfp\u001b[38;5;241m.\u001b[39mreadline(_MAXLINE \u001b[38;5;241m+\u001b[39m \u001b[38;5;241m1\u001b[39m), \u001b[38;5;124m\"\u001b[39m\u001b[38;5;124miso-8859-1\u001b[39m\u001b[38;5;124m\"\u001b[39m)\n\u001b[0;32m    293\u001b[0m     \u001b[38;5;28;01mif\u001b[39;00m \u001b[38;5;28mlen\u001b[39m(line) \u001b[38;5;241m>\u001b[39m _MAXLINE:\n\u001b[0;32m    294\u001b[0m         \u001b[38;5;28;01mraise\u001b[39;00m LineTooLong(\u001b[38;5;124m\"\u001b[39m\u001b[38;5;124mstatus line\u001b[39m\u001b[38;5;124m\"\u001b[39m)\n",
      "File \u001b[1;32mc:\\Users\\jrobe\\anaconda3\\envs\\dev\\Lib\\socket.py:707\u001b[0m, in \u001b[0;36mSocketIO.readinto\u001b[1;34m(self, b)\u001b[0m\n\u001b[0;32m    705\u001b[0m \u001b[38;5;28;01mwhile\u001b[39;00m \u001b[38;5;28;01mTrue\u001b[39;00m:\n\u001b[0;32m    706\u001b[0m     \u001b[38;5;28;01mtry\u001b[39;00m:\n\u001b[1;32m--> 707\u001b[0m         \u001b[38;5;28;01mreturn\u001b[39;00m \u001b[38;5;28mself\u001b[39m\u001b[38;5;241m.\u001b[39m_sock\u001b[38;5;241m.\u001b[39mrecv_into(b)\n\u001b[0;32m    708\u001b[0m     \u001b[38;5;28;01mexcept\u001b[39;00m timeout:\n\u001b[0;32m    709\u001b[0m         \u001b[38;5;28mself\u001b[39m\u001b[38;5;241m.\u001b[39m_timeout_occurred \u001b[38;5;241m=\u001b[39m \u001b[38;5;28;01mTrue\u001b[39;00m\n",
      "File \u001b[1;32mc:\\Users\\jrobe\\anaconda3\\envs\\dev\\Lib\\ssl.py:1252\u001b[0m, in \u001b[0;36mSSLSocket.recv_into\u001b[1;34m(self, buffer, nbytes, flags)\u001b[0m\n\u001b[0;32m   1248\u001b[0m     \u001b[38;5;28;01mif\u001b[39;00m flags \u001b[38;5;241m!=\u001b[39m \u001b[38;5;241m0\u001b[39m:\n\u001b[0;32m   1249\u001b[0m         \u001b[38;5;28;01mraise\u001b[39;00m \u001b[38;5;167;01mValueError\u001b[39;00m(\n\u001b[0;32m   1250\u001b[0m           \u001b[38;5;124m\"\u001b[39m\u001b[38;5;124mnon-zero flags not allowed in calls to recv_into() on \u001b[39m\u001b[38;5;132;01m%s\u001b[39;00m\u001b[38;5;124m\"\u001b[39m \u001b[38;5;241m%\u001b[39m\n\u001b[0;32m   1251\u001b[0m           \u001b[38;5;28mself\u001b[39m\u001b[38;5;241m.\u001b[39m\u001b[38;5;18m__class__\u001b[39m)\n\u001b[1;32m-> 1252\u001b[0m     \u001b[38;5;28;01mreturn\u001b[39;00m \u001b[38;5;28mself\u001b[39m\u001b[38;5;241m.\u001b[39mread(nbytes, buffer)\n\u001b[0;32m   1253\u001b[0m \u001b[38;5;28;01melse\u001b[39;00m:\n\u001b[0;32m   1254\u001b[0m     \u001b[38;5;28;01mreturn\u001b[39;00m \u001b[38;5;28msuper\u001b[39m()\u001b[38;5;241m.\u001b[39mrecv_into(buffer, nbytes, flags)\n",
      "File \u001b[1;32mc:\\Users\\jrobe\\anaconda3\\envs\\dev\\Lib\\ssl.py:1104\u001b[0m, in \u001b[0;36mSSLSocket.read\u001b[1;34m(self, len, buffer)\u001b[0m\n\u001b[0;32m   1102\u001b[0m \u001b[38;5;28;01mtry\u001b[39;00m:\n\u001b[0;32m   1103\u001b[0m     \u001b[38;5;28;01mif\u001b[39;00m buffer \u001b[38;5;129;01mis\u001b[39;00m \u001b[38;5;129;01mnot\u001b[39;00m \u001b[38;5;28;01mNone\u001b[39;00m:\n\u001b[1;32m-> 1104\u001b[0m         \u001b[38;5;28;01mreturn\u001b[39;00m \u001b[38;5;28mself\u001b[39m\u001b[38;5;241m.\u001b[39m_sslobj\u001b[38;5;241m.\u001b[39mread(\u001b[38;5;28mlen\u001b[39m, buffer)\n\u001b[0;32m   1105\u001b[0m     \u001b[38;5;28;01melse\u001b[39;00m:\n\u001b[0;32m   1106\u001b[0m         \u001b[38;5;28;01mreturn\u001b[39;00m \u001b[38;5;28mself\u001b[39m\u001b[38;5;241m.\u001b[39m_sslobj\u001b[38;5;241m.\u001b[39mread(\u001b[38;5;28mlen\u001b[39m)\n",
      "\u001b[1;31mKeyboardInterrupt\u001b[0m: "
     ]
    }
   ],
   "source": [
    "# Set parameters to search for a hotel\n",
    "radius = 10000\n",
    "params = {\n",
    "   \"radius\": radius,\n",
    "    \"limit\": 1  # Limiting to retrieve only the first hotel\n",
    "}\n",
    "\n",
    "# Print a message to follow up the hotel search\n",
    "print(\"Starting hotel search\")\n",
    "\n",
    "# Iterate through the hotel_df DataFrame\n",
    "for index, row in hotel_df.iterrows():\n",
    "    # get latitude, longitude from the DataFrame\n",
    "    latitude = row[\"Lat\"]\n",
    "    longitude = row[\"Lng\"]\n",
    "    \n",
    "    # Add filter and bias parameters with the current city's latitude and longitude to the params dictionary\n",
    "    params[\"filter\"] = f\"point:{latitude},{longitude}\"\n",
    "    params[\"bias\"] = f\"point:{latitude},{longitude}\"\n",
    "    \n",
    "    # Set base URL\n",
    "    base_url = \"https://maps.geoapify.com/v1/tile/carto/{z}/{x}/{y}.png?&apiKey=\"\n",
    "\n",
    "\n",
    "    # Make and API request using the params dictionary\n",
    "    response = requests.get(base_url, params=params)\n",
    "    \n",
    "    # Convert the API response to JSON format\n",
    "    name_address = response.json()\n",
    "    \n",
    "     # Grab the first hotel from the results and store the name in the hotel_df DataFrame\n",
    "    try:\n",
    "        hotel_df.loc[index, \"Hotel Name\"] = name_address[\"features\"][0][\"properties\"][\"name\"]\n",
    "    except (KeyError, IndexError):\n",
    "        # If no hotel is found, set the hotel name as \"No hotel found\".\n",
    "        hotel_df.loc[index, \"Hotel Name\"] = \"No hotel found\"\n",
    "        \n",
    "    # Log the search results\n",
    "    print(f\"{hotel_df.loc[index, 'City']} - nearest hotel: {hotel_df.loc[index, 'Hotel Name']}\")\n",
    "\n",
    "# Display sample data\n",
    "print(hotel_df)"
   ]
  },
  {
   "cell_type": "markdown",
   "metadata": {},
   "source": [
    "### Step 5: Add the hotel name and the country as additional information in the hover message for each city in the map."
   ]
  },
  {
   "cell_type": "code",
   "execution_count": null,
   "metadata": {},
   "outputs": [
    {
     "data": {},
     "metadata": {},
     "output_type": "display_data"
    },
    {
     "data": {
      "application/vnd.holoviews_exec.v0+json": "",
      "text/html": [
       "<div id='1139'>\n",
       "  <div class=\"bk-root\" id=\"7b5a7bdc-70f8-4d0f-98b5-94088c2a4292\" data-root-id=\"1139\"></div>\n",
       "</div>\n",
       "<script type=\"application/javascript\">(function(root) {\n",
       "  function embed_document(root) {\n",
       "    var docs_json = {\"c8f53044-6bb6-451a-8ec5-6a7e93149cf2\":{\"defs\":[{\"extends\":null,\"module\":null,\"name\":\"ReactiveHTML1\",\"overrides\":[],\"properties\":[]},{\"extends\":null,\"module\":null,\"name\":\"FlexBox1\",\"overrides\":[],\"properties\":[{\"default\":\"flex-start\",\"kind\":null,\"name\":\"align_content\"},{\"default\":\"flex-start\",\"kind\":null,\"name\":\"align_items\"},{\"default\":\"row\",\"kind\":null,\"name\":\"flex_direction\"},{\"default\":\"wrap\",\"kind\":null,\"name\":\"flex_wrap\"},{\"default\":\"flex-start\",\"kind\":null,\"name\":\"justify_content\"}]},{\"extends\":null,\"module\":null,\"name\":\"GridStack1\",\"overrides\":[],\"properties\":[{\"default\":\"warn\",\"kind\":null,\"name\":\"mode\"},{\"default\":null,\"kind\":null,\"name\":\"ncols\"},{\"default\":null,\"kind\":null,\"name\":\"nrows\"},{\"default\":true,\"kind\":null,\"name\":\"allow_resize\"},{\"default\":true,\"kind\":null,\"name\":\"allow_drag\"},{\"default\":[],\"kind\":null,\"name\":\"state\"}]},{\"extends\":null,\"module\":null,\"name\":\"click1\",\"overrides\":[],\"properties\":[{\"default\":\"\",\"kind\":null,\"name\":\"terminal_output\"},{\"default\":\"\",\"kind\":null,\"name\":\"debug_name\"},{\"default\":0,\"kind\":null,\"name\":\"clears\"}]},{\"extends\":null,\"module\":null,\"name\":\"NotificationAreaBase1\",\"overrides\":[],\"properties\":[{\"default\":\"bottom-right\",\"kind\":null,\"name\":\"position\"},{\"default\":0,\"kind\":null,\"name\":\"_clear\"}]},{\"extends\":null,\"module\":null,\"name\":\"NotificationArea1\",\"overrides\":[],\"properties\":[{\"default\":[],\"kind\":null,\"name\":\"notifications\"},{\"default\":\"bottom-right\",\"kind\":null,\"name\":\"position\"},{\"default\":0,\"kind\":null,\"name\":\"_clear\"},{\"default\":[{\"background\":\"#ffc107\",\"icon\":{\"className\":\"fas fa-exclamation-triangle\",\"color\":\"white\",\"tagName\":\"i\"},\"type\":\"warning\"},{\"background\":\"#007bff\",\"icon\":{\"className\":\"fas fa-info-circle\",\"color\":\"white\",\"tagName\":\"i\"},\"type\":\"info\"}],\"kind\":null,\"name\":\"types\"}]},{\"extends\":null,\"module\":null,\"name\":\"Notification\",\"overrides\":[],\"properties\":[{\"default\":null,\"kind\":null,\"name\":\"background\"},{\"default\":3000,\"kind\":null,\"name\":\"duration\"},{\"default\":null,\"kind\":null,\"name\":\"icon\"},{\"default\":\"\",\"kind\":null,\"name\":\"message\"},{\"default\":null,\"kind\":null,\"name\":\"notification_type\"},{\"default\":false,\"kind\":null,\"name\":\"_destroyed\"}]},{\"extends\":null,\"module\":null,\"name\":\"TemplateActions1\",\"overrides\":[],\"properties\":[{\"default\":0,\"kind\":null,\"name\":\"open_modal\"},{\"default\":0,\"kind\":null,\"name\":\"close_modal\"}]},{\"extends\":null,\"module\":null,\"name\":\"MaterialTemplateActions1\",\"overrides\":[],\"properties\":[{\"default\":0,\"kind\":null,\"name\":\"open_modal\"},{\"default\":0,\"kind\":null,\"name\":\"close_modal\"}]}],\"roots\":{\"references\":[{\"attributes\":{\"dimension\":\"lat\"},\"id\":\"1186\",\"type\":\"MercatorTicker\"},{\"attributes\":{},\"id\":\"1159\",\"type\":\"LinearScale\"},{\"attributes\":{\"data\":{\"City\":[\"kapaa\",\"hilo\",\"banda\",\"makakilo city\",\"kahului\",\"gat\",\"laguna\",\"tikaitnagar\",\"san quintin\",\"santa rosalia\",\"narwar\",\"port hedland\",\"roebourne\",\"saint-francois\",\"capoterra\",\"stolac\",\"guerrero negro\"],\"Country\":[\"US\",\"US\",\"IN\",\"US\",\"US\",\"IL\",\"US\",\"IN\",\"MX\",\"MX\",\"IN\",\"AU\",\"AU\",\"FR\",\"IT\",\"BA\",\"MX\"],\"Hotel_Name\":[\"Pono Kai Resort\",\"Dolphin Bay Hotel\",\"#acnindiafy21\",\"Embassy Suites by Hilton Oahu Kapolei\",\"Maui Seaside Hotel\",\"No hotel found\",\"Holiday Inn Express & Suites\",\"No hotel found\",\"Jardines Hotel\",\"Hotel del Real\",\"No hotel found\",\"The Esplanade Hotel\",\"No hotel found\",\"Chez Lily\",\"Rosa Hotel\",\"Bregava\",\"Plaza sal paraiso\"],\"Humidity\":[84,83,52,81,60,100,79,59,74,56,55,73,65,57,71,68,68],\"Lat\":{\"__ndarray__\":\"3KYbJfY6Q0FhSt/CBhlBQaHNdnPcZEZBfDISjYWQQkGBO86NHydCQb49c55wUkxBP4+IuVeyUUEx0BImVchHQaFOkweBNEtBuNiVoOshSEFNdwQQCo1GQb1Ugi/doEHBUNKFDTUNQsGSVg5GIE5WQTmauSWzG1JBppZPzgZQVEEdIC/c9sNIQQ==\",\"dtype\":\"float64\",\"order\":\"little\",\"shape\":[17]},\"Lng\":{\"__ndarray__\":\"LFRC3+jpcMFo6zu9+XZwwTp/l8GIDmFBw1If7GTIcMEdPZcLe5xwwcrdWoV2hk1BjwXCcgTIacFYODltelJhQT+to958nmjBeJT6+C7XZ8HSQ6aKRYpgQR/EaBW4LGlBiS/zac7eaEHyNLCO7IgaQSpSPWqgei5BpfyDwauAPkFCQkjy0DdowQ==\",\"dtype\":\"float64\",\"order\":\"little\",\"shape\":[17]},\"color\":[\"kapaa\",\"hilo\",\"banda\",\"makakilo city\",\"kahului\",\"gat\",\"laguna\",\"tikaitnagar\",\"san quintin\",\"santa rosalia\",\"narwar\",\"port hedland\",\"roebourne\",\"saint-francois\",\"capoterra\",\"stolac\",\"guerrero negro\"],\"size\":{\"__ndarray__\":\"hR4VuY5UIkAonAXAijgiQPNZYUQr2BxAAAAAAAAAIkDaTk+x3vseQAAAAAAAACRAcLgta8HGIUDbnltFfrkeQE4BN/pjNCFAST9oEeruHUDY4arvL6odQKMUrqiHFiFA0LphP+AfIEBcz1bMBzMeQAb7lU0w2iBAB+2vZg9+IEAH7a9mD34gQA==\",\"dtype\":\"float64\",\"order\":\"little\",\"shape\":[17]}},\"selected\":{\"id\":\"1217\"},\"selection_policy\":{\"id\":\"1229\"}},\"id\":\"1216\",\"type\":\"ColumnDataSource\"},{\"attributes\":{\"bottom_units\":\"screen\",\"coordinates\":null,\"fill_alpha\":0.5,\"fill_color\":\"lightgrey\",\"group\":null,\"left_units\":\"screen\",\"level\":\"overlay\",\"line_alpha\":1.0,\"line_color\":\"black\",\"line_dash\":[4,4],\"line_width\":2,\"right_units\":\"screen\",\"syncable\":false,\"top_units\":\"screen\"},\"id\":\"1174\",\"type\":\"BoxAnnotation\"},{\"attributes\":{\"coordinates\":null,\"group\":null,\"level\":\"glyph\",\"tile_source\":{\"id\":\"1210\"}},\"id\":\"1213\",\"type\":\"TileRenderer\"},{\"attributes\":{\"source\":{\"id\":\"1216\"}},\"id\":\"1225\",\"type\":\"CDSView\"},{\"attributes\":{\"margin\":[5,5,5,5],\"name\":\"HSpacer01686\",\"sizing_mode\":\"stretch_width\"},\"id\":\"1140\",\"type\":\"Spacer\"},{\"attributes\":{\"attribution\":\"&copy; <a href=\\\"https://www.openstreetmap.org/copyright\\\">OpenStreetMap</a> contributors\",\"url\":\"https://c.tile.openstreetmap.org/{Z}/{X}/{Y}.png\"},\"id\":\"1210\",\"type\":\"WMTSTileSource\"},{\"attributes\":{\"coordinates\":null,\"data_source\":{\"id\":\"1216\"},\"glyph\":{\"id\":\"1219\"},\"group\":null,\"hover_glyph\":{\"id\":\"1222\"},\"muted_glyph\":{\"id\":\"1223\"},\"nonselection_glyph\":{\"id\":\"1220\"},\"selection_glyph\":{\"id\":\"1221\"},\"view\":{\"id\":\"1225\"}},\"id\":\"1224\",\"type\":\"GlyphRenderer\"},{\"attributes\":{\"axis\":{\"id\":\"1161\"},\"coordinates\":null,\"grid_line_color\":null,\"group\":null,\"ticker\":null},\"id\":\"1164\",\"type\":\"Grid\"},{\"attributes\":{\"click_policy\":\"mute\",\"coordinates\":null,\"group\":null,\"items\":[{\"id\":\"1233\"}],\"location\":[0,0]},\"id\":\"1232\",\"type\":\"Legend\"},{\"attributes\":{\"axis_label\":\"x\",\"coordinates\":null,\"formatter\":{\"id\":\"1185\"},\"group\":null,\"major_label_policy\":{\"id\":\"1190\"},\"ticker\":{\"id\":\"1184\"}},\"id\":\"1161\",\"type\":\"LinearAxis\"},{\"attributes\":{\"fill_alpha\":{\"value\":0.5},\"fill_color\":{\"field\":\"color\",\"transform\":{\"id\":\"1215\"}},\"hatch_alpha\":{\"value\":0.5},\"hatch_color\":{\"field\":\"color\",\"transform\":{\"id\":\"1215\"}},\"line_alpha\":{\"value\":0.5},\"line_color\":{\"field\":\"color\",\"transform\":{\"id\":\"1215\"}},\"size\":{\"field\":\"size\"},\"x\":{\"field\":\"Lng\"},\"y\":{\"field\":\"Lat\"}},\"id\":\"1222\",\"type\":\"Scatter\"},{\"attributes\":{\"zoom_on_axis\":false},\"id\":\"1171\",\"type\":\"WheelZoomTool\"},{\"attributes\":{},\"id\":\"1217\",\"type\":\"Selection\"},{\"attributes\":{},\"id\":\"1229\",\"type\":\"UnionRenderers\"},{\"attributes\":{},\"id\":\"1170\",\"type\":\"PanTool\"},{\"attributes\":{},\"id\":\"1157\",\"type\":\"LinearScale\"},{\"attributes\":{\"coordinates\":null,\"group\":null,\"text_color\":\"black\",\"text_font_size\":\"12pt\"},\"id\":\"1153\",\"type\":\"Title\"},{\"attributes\":{\"code\":\"\\n        var projections = Bokeh.require(\\\"core/util/projections\\\");\\n        var x = special_vars.data_x\\n        var y = special_vars.data_y\\n        if (projections.wgs84_mercator.invert == null) {\\n          var coords = projections.wgs84_mercator.inverse([x, y])\\n        } else {\\n          var coords = projections.wgs84_mercator.invert(x, y)\\n        }\\n        return \\\"\\\" + (coords[1]).toFixed(4)\\n    \"},\"id\":\"1235\",\"type\":\"CustomJSHover\"},{\"attributes\":{\"fill_alpha\":{\"value\":0.5},\"fill_color\":{\"field\":\"color\",\"transform\":{\"id\":\"1215\"}},\"hatch_alpha\":{\"value\":0.5},\"hatch_color\":{\"field\":\"color\",\"transform\":{\"id\":\"1215\"}},\"line_alpha\":{\"value\":0.5},\"line_color\":{\"field\":\"color\",\"transform\":{\"id\":\"1215\"}},\"size\":{\"field\":\"size\"},\"x\":{\"field\":\"Lng\"},\"y\":{\"field\":\"Lat\"}},\"id\":\"1219\",\"type\":\"Scatter\"},{\"attributes\":{\"children\":[{\"id\":\"1140\"},{\"id\":\"1152\"},{\"id\":\"1242\"}],\"margin\":[0,0,0,0],\"name\":\"Row01682\",\"tags\":[\"embedded\"]},\"id\":\"1139\",\"type\":\"Row\"},{\"attributes\":{\"callback\":null,\"formatters\":{\"$x\":{\"id\":\"1234\"},\"$y\":{\"id\":\"1235\"}},\"renderers\":[{\"id\":\"1224\"}],\"tags\":[\"hv_created\"],\"tooltips\":[[\"Lng\",\"$x{custom}\"],[\"Lat\",\"$y{custom}\"],[\"City\",\"@{City}\"],[\"Humidity\",\"@{Humidity}\"],[\"Hotel Name\",\"@{Hotel_Name}\"],[\"Country\",\"@{Country}\"]]},\"id\":\"1149\",\"type\":\"HoverTool\"},{\"attributes\":{},\"id\":\"1173\",\"type\":\"ResetTool\"},{\"attributes\":{\"fill_alpha\":{\"value\":0.2},\"fill_color\":{\"field\":\"color\",\"transform\":{\"id\":\"1215\"}},\"hatch_alpha\":{\"value\":0.2},\"hatch_color\":{\"field\":\"color\",\"transform\":{\"id\":\"1215\"}},\"line_alpha\":{\"value\":0.2},\"line_color\":{\"field\":\"color\",\"transform\":{\"id\":\"1215\"}},\"size\":{\"field\":\"size\"},\"x\":{\"field\":\"Lng\"},\"y\":{\"field\":\"Lat\"}},\"id\":\"1223\",\"type\":\"Scatter\"},{\"attributes\":{\"end\":14366716.452919383,\"min_interval\":5,\"reset_end\":14366716.452919383,\"reset_start\":-10885605.506340533,\"start\":-10885605.506340533,\"tags\":[[[\"Lat\",\"Lat\",null]]]},\"id\":\"1146\",\"type\":\"Range1d\"},{\"attributes\":{},\"id\":\"1197\",\"type\":\"AllLabels\"},{\"attributes\":{\"axis_label\":\"y\",\"coordinates\":null,\"formatter\":{\"id\":\"1187\"},\"group\":null,\"major_label_policy\":{\"id\":\"1197\"},\"ticker\":{\"id\":\"1186\"}},\"id\":\"1165\",\"type\":\"LinearAxis\"},{\"attributes\":{\"end\":15408362.72915458,\"min_interval\":5,\"reset_end\":15408362.72915458,\"reset_start\":-19944888.0138093,\"start\":-19944888.0138093,\"tags\":[[[\"Lng\",\"Lng\",null]]]},\"id\":\"1145\",\"type\":\"Range1d\"},{\"attributes\":{\"below\":[{\"id\":\"1161\"}],\"center\":[{\"id\":\"1164\"},{\"id\":\"1168\"}],\"frame_height\":500,\"frame_width\":700,\"height\":null,\"left\":[{\"id\":\"1165\"}],\"margin\":[5,5,5,5],\"match_aspect\":true,\"min_border_bottom\":10,\"min_border_left\":10,\"min_border_right\":10,\"min_border_top\":10,\"renderers\":[{\"id\":\"1213\"},{\"id\":\"1224\"}],\"right\":[{\"id\":\"1232\"}],\"sizing_mode\":\"fixed\",\"title\":{\"id\":\"1153\"},\"toolbar\":{\"id\":\"1175\"},\"width\":null,\"x_range\":{\"id\":\"1145\"},\"x_scale\":{\"id\":\"1157\"},\"y_range\":{\"id\":\"1146\"},\"y_scale\":{\"id\":\"1159\"}},\"id\":\"1152\",\"subtype\":\"Figure\",\"type\":\"Plot\"},{\"attributes\":{\"axis\":{\"id\":\"1165\"},\"coordinates\":null,\"dimension\":1,\"grid_line_color\":null,\"group\":null,\"ticker\":null},\"id\":\"1168\",\"type\":\"Grid\"},{\"attributes\":{\"label\":{\"field\":\"color\"},\"renderers\":[{\"id\":\"1224\"}]},\"id\":\"1233\",\"type\":\"LegendItem\"},{\"attributes\":{},\"id\":\"1190\",\"type\":\"AllLabels\"},{\"attributes\":{\"fill_alpha\":{\"value\":0.5},\"fill_color\":{\"field\":\"color\",\"transform\":{\"id\":\"1215\"}},\"hatch_alpha\":{\"value\":0.1},\"hatch_color\":{\"field\":\"color\",\"transform\":{\"id\":\"1215\"}},\"line_alpha\":{\"value\":0.5},\"line_color\":{\"field\":\"color\",\"transform\":{\"id\":\"1215\"}},\"size\":{\"field\":\"size\"},\"x\":{\"field\":\"Lng\"},\"y\":{\"field\":\"Lat\"}},\"id\":\"1220\",\"type\":\"Scatter\"},{\"attributes\":{\"dimension\":\"lon\"},\"id\":\"1185\",\"type\":\"MercatorTickFormatter\"},{\"attributes\":{\"tools\":[{\"id\":\"1149\"},{\"id\":\"1169\"},{\"id\":\"1170\"},{\"id\":\"1171\"},{\"id\":\"1172\"},{\"id\":\"1173\"}]},\"id\":\"1175\",\"type\":\"Toolbar\"},{\"attributes\":{\"dimension\":\"lat\"},\"id\":\"1187\",\"type\":\"MercatorTickFormatter\"},{\"attributes\":{},\"id\":\"1169\",\"type\":\"SaveTool\"},{\"attributes\":{\"factors\":[\"kapaa\",\"hilo\",\"banda\",\"makakilo city\",\"kahului\",\"gat\",\"laguna\",\"tikaitnagar\",\"san quintin\",\"santa rosalia\",\"narwar\",\"port hedland\",\"roebourne\",\"saint-francois\",\"capoterra\",\"stolac\",\"guerrero negro\"],\"palette\":[\"#1f77b3\",\"#ff7e0e\",\"#2ba02b\",\"#d62628\",\"#9367bc\",\"#8c564b\",\"#e277c1\",\"#7e7e7e\",\"#bcbc21\",\"#16bdcf\",\"#3a0182\",\"#004201\",\"#0fffa8\",\"#5d003f\",\"#bcbcff\",\"#d8afa1\",\"#b80080\"]},\"id\":\"1215\",\"type\":\"CategoricalColorMapper\"},{\"attributes\":{\"code\":\"\\n        var projections = Bokeh.require(\\\"core/util/projections\\\");\\n        var x = special_vars.data_x\\n        var y = special_vars.data_y\\n        if (projections.wgs84_mercator.invert == null) {\\n          var coords = projections.wgs84_mercator.inverse([x, y])\\n        } else {\\n          var coords = projections.wgs84_mercator.invert(x, y)\\n        }\\n        return \\\"\\\" + (coords[0]).toFixed(4)\\n    \"},\"id\":\"1234\",\"type\":\"CustomJSHover\"},{\"attributes\":{\"match_aspect\":true,\"overlay\":{\"id\":\"1174\"}},\"id\":\"1172\",\"type\":\"BoxZoomTool\"},{\"attributes\":{\"margin\":[5,5,5,5],\"name\":\"HSpacer01687\",\"sizing_mode\":\"stretch_width\"},\"id\":\"1242\",\"type\":\"Spacer\"},{\"attributes\":{\"fill_alpha\":{\"value\":0.5},\"fill_color\":{\"field\":\"color\",\"transform\":{\"id\":\"1215\"}},\"hatch_alpha\":{\"value\":0.5},\"hatch_color\":{\"field\":\"color\",\"transform\":{\"id\":\"1215\"}},\"line_alpha\":{\"value\":0.5},\"line_color\":{\"field\":\"color\",\"transform\":{\"id\":\"1215\"}},\"size\":{\"field\":\"size\"},\"x\":{\"field\":\"Lng\"},\"y\":{\"field\":\"Lat\"}},\"id\":\"1221\",\"type\":\"Scatter\"},{\"attributes\":{\"dimension\":\"lon\"},\"id\":\"1184\",\"type\":\"MercatorTicker\"}],\"root_ids\":[\"1139\"]},\"title\":\"Bokeh Application\",\"version\":\"2.4.3\"}};\n",
       "    var render_items = [{\"docid\":\"c8f53044-6bb6-451a-8ec5-6a7e93149cf2\",\"root_ids\":[\"1139\"],\"roots\":{\"1139\":\"7b5a7bdc-70f8-4d0f-98b5-94088c2a4292\"}}];\n",
       "    root.Bokeh.embed.embed_items_notebook(docs_json, render_items);\n",
       "    for (const render_item of render_items) {\n",
       "      for (const root_id of render_item.root_ids) {\n",
       "\tconst id_el = document.getElementById(root_id)\n",
       "\tif (id_el.children.length && (id_el.children[0].className === 'bk-root')) {\n",
       "\t  const root_el = id_el.children[0]\n",
       "\t  root_el.id = root_el.id + '-rendered'\n",
       "\t}\n",
       "      }\n",
       "    }\n",
       "  }\n",
       "  if (root.Bokeh !== undefined && root.Bokeh.Panel !== undefined) {\n",
       "    embed_document(root);\n",
       "  } else {\n",
       "    var attempts = 0;\n",
       "    var timer = setInterval(function(root) {\n",
       "      if (root.Bokeh !== undefined && root.Bokeh.Panel !== undefined) {\n",
       "        clearInterval(timer);\n",
       "        embed_document(root);\n",
       "      } else if (document.readyState == \"complete\") {\n",
       "        attempts++;\n",
       "        if (attempts > 200) {\n",
       "          clearInterval(timer);\n",
       "          console.log(\"Bokeh: ERROR: Unable to run BokehJS code because BokehJS library is missing\");\n",
       "        }\n",
       "      }\n",
       "    }, 25, root)\n",
       "  }\n",
       "})(window);</script>"
      ],
      "text/plain": [
       ":Overlay\n",
       "   .Tiles.I  :Tiles   [x,y]\n",
       "   .Points.I :Points   [Lng,Lat]   (City,Humidity,Hotel Name,Country)"
      ]
     },
     "execution_count": 7,
     "metadata": {
      "application/vnd.holoviews_exec.v0+json": {
       "id": "1139"
      }
     },
     "output_type": "execute_result"
    }
   ],
   "source": [
    "%%capture --no-display\n",
    "\n",
    "# Configure the map plot\n",
    "# YOUR CODE HERE\n",
    "\n",
    "# Display the map\n",
    "# YOUR CODE HERE"
   ]
  },
  {
   "cell_type": "code",
   "execution_count": null,
   "metadata": {},
   "outputs": [],
   "source": []
  }
 ],
 "metadata": {
  "kernelspec": {
   "display_name": "Python 3 (ipykernel)",
   "language": "python",
   "name": "python3"
  },
  "language_info": {
   "codemirror_mode": {
    "name": "ipython",
    "version": 3
   },
   "file_extension": ".py",
   "mimetype": "text/x-python",
   "name": "python",
   "nbconvert_exporter": "python",
   "pygments_lexer": "ipython3",
   "version": "3.12.2"
  },
  "latex_envs": {
   "LaTeX_envs_menu_present": true,
   "autoclose": false,
   "autocomplete": true,
   "bibliofile": "biblio.bib",
   "cite_by": "apalike",
   "current_citInitial": 1,
   "eqLabelWithNumbers": true,
   "eqNumInitial": 1,
   "hotkeys": {
    "equation": "Ctrl-E",
    "itemize": "Ctrl-I"
   },
   "labels_anchors": false,
   "latex_user_defs": false,
   "report_style_numbering": false,
   "user_envs_cfg": false
  }
 },
 "nbformat": 4,
 "nbformat_minor": 4
}
